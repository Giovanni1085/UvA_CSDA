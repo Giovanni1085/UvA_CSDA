{
 "cells": [
  {
   "cell_type": "markdown",
   "metadata": {},
   "source": [
    "# Assignment 2\n",
    "\n",
    "For this assignment, you will work on the *SuperRare crypto art transactions* [dataset](https://www.kaggle.com/franceschet/superrare). Please carefully read its Kaggle documentation before getting started.\n",
    "\n",
    "**For this assignment, you are welcome to propose an alternative dataset of interest to you to explore. The dataset must be of comparable complexity and you must still perform the below tasks on it: if in doubt, ask.**\n",
    "\n",
    "**Please carefully read the assignment guidelines in Canvas. You are expected to work in groups and submit as a group.**"
   ]
  },
  {
   "cell_type": "markdown",
   "metadata": {},
   "source": [
    "## Tasks\n",
    "\n",
    "Consider the dataset at hand and: \n",
    "1. Perform an **exploratory data analysis** on *at least 2 of this dataset variables (columns)*. For each, show its descriptive statistics, plot its distribution using an appropriate plot, and comment on your results. Furthermore, use a scatterplot to visualize two of these variables together.\n",
    "2. Comment on whether the **distributions** of these variables look normal or long-tail (or neither) to you. Verify the presence of possible **outliers** and comment on your results.\n",
    "3. Measure the **covariance and correlation** among these variables and comment on your results. Hint: check the pandas [`cov`](https://pandas.pydata.org/pandas-docs/stable/reference/api/pandas.DataFrame.cov.html) function.\n",
    "4. Show the **trend of sales over time**, using timestamp information.\n",
    "5. Check whether this dataset is robust to sampling, and if so how many datapoints you would need to sample to get the analyses you have just performed (steps 1-4) to have similar results to the full datasets. Briefly comment on your results.\n",
    "6. Bonus: find out which are the **highest-value artworks** in terms of sale price.\n",
    "\n",
    "**Please make sure to carefully explain and motivate your choices via markdown cells and Python comments, as approptiate.**"
   ]
  },
  {
   "cell_type": "markdown",
   "metadata": {},
   "source": [
    "## Dataset\n",
    "\n",
    "Documentation on the contents of each data frame is on Kaggle, please check it carefully: https://www.kaggle.com/franceschet/superrare"
   ]
  },
  {
   "cell_type": "code",
   "execution_count": 1,
   "metadata": {},
   "outputs": [],
   "source": [
    "import pandas as pd"
   ]
  },
  {
   "cell_type": "code",
   "execution_count": 3,
   "metadata": {},
   "outputs": [],
   "source": [
    "df_sales = pd.read_csv('https://raw.githubusercontent.com/Giovanni1085/UvA_CSDA_2021/main/assignments/data/sales.csv')\n",
    "df_artworks = pd.read_csv('https://raw.githubusercontent.com/Giovanni1085/UvA_CSDA_2021/main/assignments/data/tokens.csv')"
   ]
  },
  {
   "cell_type": "code",
   "execution_count": 4,
   "metadata": {},
   "outputs": [
    {
     "name": "stdout",
     "output_type": "stream",
     "text": [
      "<class 'pandas.core.frame.DataFrame'>\n",
      "RangeIndex: 13485 entries, 0 to 13484\n",
      "Data columns (total 9 columns):\n",
      " #   Column         Non-Null Count  Dtype  \n",
      "---  ------         --------------  -----  \n",
      " 0   timestamp      13485 non-null  object \n",
      " 1   tokenId        13485 non-null  int64  \n",
      " 2   buyer          13485 non-null  object \n",
      " 3   seller         13485 non-null  object \n",
      " 4   eth            13485 non-null  float64\n",
      " 5   rate           13480 non-null  float64\n",
      " 6   usd            13480 non-null  float64\n",
      " 7   contract       13485 non-null  object \n",
      " 8   transactionId  13485 non-null  object \n",
      "dtypes: float64(3), int64(1), object(5)\n",
      "memory usage: 948.3+ KB\n"
     ]
    }
   ],
   "source": [
    "df_sales.info()"
   ]
  },
  {
   "cell_type": "code",
   "execution_count": 29,
   "metadata": {},
   "outputs": [
    {
     "data": {
      "text/html": [
       "<div>\n",
       "<style scoped>\n",
       "    .dataframe tbody tr th:only-of-type {\n",
       "        vertical-align: middle;\n",
       "    }\n",
       "\n",
       "    .dataframe tbody tr th {\n",
       "        vertical-align: top;\n",
       "    }\n",
       "\n",
       "    .dataframe thead th {\n",
       "        text-align: right;\n",
       "    }\n",
       "</style>\n",
       "<table border=\"1\" class=\"dataframe\">\n",
       "  <thead>\n",
       "    <tr style=\"text-align: right;\">\n",
       "      <th></th>\n",
       "      <th>timestamp</th>\n",
       "      <th>tokenId</th>\n",
       "      <th>buyer</th>\n",
       "      <th>seller</th>\n",
       "      <th>eth</th>\n",
       "      <th>rate</th>\n",
       "      <th>usd</th>\n",
       "      <th>contract</th>\n",
       "      <th>transactionId</th>\n",
       "    </tr>\n",
       "  </thead>\n",
       "  <tbody>\n",
       "    <tr>\n",
       "      <th>0</th>\n",
       "      <td>2018-04-05T23:50:12Z</td>\n",
       "      <td>1</td>\n",
       "      <td>0xbc74c3adc2aa6a85bda3eca5b0e235ca08532772</td>\n",
       "      <td>0x860c4604fe1125ea43f81e613e7afb2aa49546aa</td>\n",
       "      <td>0.46</td>\n",
       "      <td>381.36</td>\n",
       "      <td>175.4256</td>\n",
       "      <td>0x41a322b28d0ff354040e2cbc676f0320d8c8850d</td>\n",
       "      <td>0xf1097e3617632e43b7c0a46ffeb4d741d0a67b25fb06...</td>\n",
       "    </tr>\n",
       "    <tr>\n",
       "      <th>1</th>\n",
       "      <td>2020-01-18T16:16:42Z</td>\n",
       "      <td>1</td>\n",
       "      <td>0x54d7f921785ebe46010d83c73712e80dfaff1e81</td>\n",
       "      <td>0xbc74c3adc2aa6a85bda3eca5b0e235ca08532772</td>\n",
       "      <td>75.00</td>\n",
       "      <td>174.00</td>\n",
       "      <td>13050.0000</td>\n",
       "      <td>0x41a322b28d0ff354040e2cbc676f0320d8c8850d</td>\n",
       "      <td>0xf8d3b8be83601d0351c72d2093738a4a25c70b49503b...</td>\n",
       "    </tr>\n",
       "    <tr>\n",
       "      <th>2</th>\n",
       "      <td>2021-01-05T00:47:24Z</td>\n",
       "      <td>1</td>\n",
       "      <td>0xd0c0650cd08acd4e9553c48c60c94be04fecce43</td>\n",
       "      <td>0x54d7f921785ebe46010d83c73712e80dfaff1e81</td>\n",
       "      <td>100.00</td>\n",
       "      <td>1103.19</td>\n",
       "      <td>110319.0000</td>\n",
       "      <td>0x41a322b28d0ff354040e2cbc676f0320d8c8850d</td>\n",
       "      <td>0xc917fe7d09a750c09fd8f467d60e5adac4bbd3a5e5ea...</td>\n",
       "    </tr>\n",
       "  </tbody>\n",
       "</table>\n",
       "</div>"
      ],
      "text/plain": [
       "              timestamp  tokenId                                       buyer  \\\n",
       "0  2018-04-05T23:50:12Z        1  0xbc74c3adc2aa6a85bda3eca5b0e235ca08532772   \n",
       "1  2020-01-18T16:16:42Z        1  0x54d7f921785ebe46010d83c73712e80dfaff1e81   \n",
       "2  2021-01-05T00:47:24Z        1  0xd0c0650cd08acd4e9553c48c60c94be04fecce43   \n",
       "\n",
       "                                       seller     eth     rate          usd  \\\n",
       "0  0x860c4604fe1125ea43f81e613e7afb2aa49546aa    0.46   381.36     175.4256   \n",
       "1  0xbc74c3adc2aa6a85bda3eca5b0e235ca08532772   75.00   174.00   13050.0000   \n",
       "2  0x54d7f921785ebe46010d83c73712e80dfaff1e81  100.00  1103.19  110319.0000   \n",
       "\n",
       "                                     contract  \\\n",
       "0  0x41a322b28d0ff354040e2cbc676f0320d8c8850d   \n",
       "1  0x41a322b28d0ff354040e2cbc676f0320d8c8850d   \n",
       "2  0x41a322b28d0ff354040e2cbc676f0320d8c8850d   \n",
       "\n",
       "                                       transactionId  \n",
       "0  0xf1097e3617632e43b7c0a46ffeb4d741d0a67b25fb06...  \n",
       "1  0xf8d3b8be83601d0351c72d2093738a4a25c70b49503b...  \n",
       "2  0xc917fe7d09a750c09fd8f467d60e5adac4bbd3a5e5ea...  "
      ]
     },
     "execution_count": 29,
     "metadata": {},
     "output_type": "execute_result"
    }
   ],
   "source": [
    "df_sales.head(3)"
   ]
  },
  {
   "cell_type": "code",
   "execution_count": 31,
   "metadata": {},
   "outputs": [
    {
     "name": "stdout",
     "output_type": "stream",
     "text": [
      "<class 'pandas.core.frame.DataFrame'>\n",
      "RangeIndex: 18518 entries, 0 to 18517\n",
      "Data columns (total 14 columns):\n",
      " #   Column         Non-Null Count  Dtype  \n",
      "---  ------         --------------  -----  \n",
      " 0   tokenId        18518 non-null  int64  \n",
      " 1   name           18517 non-null  object \n",
      " 2   description    18518 non-null  object \n",
      " 3   tags           18517 non-null  object \n",
      " 4   image          18518 non-null  object \n",
      " 5   media          9940 non-null   object \n",
      " 6   type           9940 non-null   object \n",
      " 7   size           9940 non-null   float64\n",
      " 8   dimensions     9708 non-null   object \n",
      " 9   creator        18518 non-null  object \n",
      " 10  owner          18518 non-null  object \n",
      " 11  timestamp      16995 non-null  object \n",
      " 12  contract       18518 non-null  object \n",
      " 13  transactionId  16995 non-null  object \n",
      "dtypes: float64(1), int64(1), object(12)\n",
      "memory usage: 2.0+ MB\n"
     ]
    }
   ],
   "source": [
    "df_artworks.info()"
   ]
  },
  {
   "cell_type": "code",
   "execution_count": 30,
   "metadata": {},
   "outputs": [
    {
     "data": {
      "text/html": [
       "<div>\n",
       "<style scoped>\n",
       "    .dataframe tbody tr th:only-of-type {\n",
       "        vertical-align: middle;\n",
       "    }\n",
       "\n",
       "    .dataframe tbody tr th {\n",
       "        vertical-align: top;\n",
       "    }\n",
       "\n",
       "    .dataframe thead th {\n",
       "        text-align: right;\n",
       "    }\n",
       "</style>\n",
       "<table border=\"1\" class=\"dataframe\">\n",
       "  <thead>\n",
       "    <tr style=\"text-align: right;\">\n",
       "      <th></th>\n",
       "      <th>tokenId</th>\n",
       "      <th>name</th>\n",
       "      <th>description</th>\n",
       "      <th>tags</th>\n",
       "      <th>image</th>\n",
       "      <th>media</th>\n",
       "      <th>type</th>\n",
       "      <th>size</th>\n",
       "      <th>dimensions</th>\n",
       "      <th>creator</th>\n",
       "      <th>owner</th>\n",
       "      <th>timestamp</th>\n",
       "      <th>contract</th>\n",
       "      <th>transactionId</th>\n",
       "    </tr>\n",
       "  </thead>\n",
       "  <tbody>\n",
       "    <tr>\n",
       "      <th>0</th>\n",
       "      <td>1</td>\n",
       "      <td>AI Generated Nude Portrait #1</td>\n",
       "      <td>Robbie Barrat, AI Generated, 2018</td>\n",
       "      <td>Nude Portrait  AI  Painting  Portrait  Generat...</td>\n",
       "      <td>https://ipfs.pixura.io/ipfs/QmX4ECCmA4HZSPxzsg...</td>\n",
       "      <td>NaN</td>\n",
       "      <td>NaN</td>\n",
       "      <td>NaN</td>\n",
       "      <td>NaN</td>\n",
       "      <td>0x860c4604fe1125ea43f81e613e7afb2aa49546aa</td>\n",
       "      <td>0xd0c0650cd08acd4e9553c48c60c94be04fecce43</td>\n",
       "      <td>2018-04-05T23:20:48Z</td>\n",
       "      <td>0x41a322b28d0ff354040e2cbc676f0320d8c8850d</td>\n",
       "      <td>0xf3e68d3a53b1bb3a2cdb4aa3a6c871626e6dcf7b8df1...</td>\n",
       "    </tr>\n",
       "    <tr>\n",
       "      <th>1</th>\n",
       "      <td>2</td>\n",
       "      <td>AI Generated Nude Portrait #2</td>\n",
       "      <td>Robbie Barrat, AI Generated, 2018</td>\n",
       "      <td>Nude Portrait  AI  Painting  Portrait  Generat...</td>\n",
       "      <td>https://ipfs.pixura.io/ipfs/QmRe3WvttmMR7mELga...</td>\n",
       "      <td>NaN</td>\n",
       "      <td>NaN</td>\n",
       "      <td>NaN</td>\n",
       "      <td>NaN</td>\n",
       "      <td>0x860c4604fe1125ea43f81e613e7afb2aa49546aa</td>\n",
       "      <td>0x6853a596d6d7264d3622546da3b891b6fe17eb82</td>\n",
       "      <td>2018-04-05T23:49:27Z</td>\n",
       "      <td>0x41a322b28d0ff354040e2cbc676f0320d8c8850d</td>\n",
       "      <td>0x8fb08cb45e1a0032dccd0951812dba7a8ebe5b255bdd...</td>\n",
       "    </tr>\n",
       "    <tr>\n",
       "      <th>2</th>\n",
       "      <td>3</td>\n",
       "      <td>AI Generated Nude Portrait #3</td>\n",
       "      <td>Robbie Barrat, AI Generated, 2018</td>\n",
       "      <td>Nude Portrait  AI  Painting  Portrait  Generat...</td>\n",
       "      <td>https://ipfs.pixura.io/ipfs/QmYCyvs9JwKTAChpri...</td>\n",
       "      <td>NaN</td>\n",
       "      <td>NaN</td>\n",
       "      <td>NaN</td>\n",
       "      <td>NaN</td>\n",
       "      <td>0x860c4604fe1125ea43f81e613e7afb2aa49546aa</td>\n",
       "      <td>0x8a0a834077a8ecea4983e2288f81afb2c6764116</td>\n",
       "      <td>2018-04-06T00:07:31Z</td>\n",
       "      <td>0x41a322b28d0ff354040e2cbc676f0320d8c8850d</td>\n",
       "      <td>0xdf2952f467fddc9f81f6beada8dc2bed1ae4e497c0d2...</td>\n",
       "    </tr>\n",
       "  </tbody>\n",
       "</table>\n",
       "</div>"
      ],
      "text/plain": [
       "   tokenId                           name                        description  \\\n",
       "0        1  AI Generated Nude Portrait #1  Robbie Barrat, AI Generated, 2018   \n",
       "1        2  AI Generated Nude Portrait #2  Robbie Barrat, AI Generated, 2018   \n",
       "2        3  AI Generated Nude Portrait #3  Robbie Barrat, AI Generated, 2018   \n",
       "\n",
       "                                                tags  \\\n",
       "0  Nude Portrait  AI  Painting  Portrait  Generat...   \n",
       "1  Nude Portrait  AI  Painting  Portrait  Generat...   \n",
       "2  Nude Portrait  AI  Painting  Portrait  Generat...   \n",
       "\n",
       "                                               image media type  size  \\\n",
       "0  https://ipfs.pixura.io/ipfs/QmX4ECCmA4HZSPxzsg...   NaN  NaN   NaN   \n",
       "1  https://ipfs.pixura.io/ipfs/QmRe3WvttmMR7mELga...   NaN  NaN   NaN   \n",
       "2  https://ipfs.pixura.io/ipfs/QmYCyvs9JwKTAChpri...   NaN  NaN   NaN   \n",
       "\n",
       "  dimensions                                     creator  \\\n",
       "0        NaN  0x860c4604fe1125ea43f81e613e7afb2aa49546aa   \n",
       "1        NaN  0x860c4604fe1125ea43f81e613e7afb2aa49546aa   \n",
       "2        NaN  0x860c4604fe1125ea43f81e613e7afb2aa49546aa   \n",
       "\n",
       "                                        owner             timestamp  \\\n",
       "0  0xd0c0650cd08acd4e9553c48c60c94be04fecce43  2018-04-05T23:20:48Z   \n",
       "1  0x6853a596d6d7264d3622546da3b891b6fe17eb82  2018-04-05T23:49:27Z   \n",
       "2  0x8a0a834077a8ecea4983e2288f81afb2c6764116  2018-04-06T00:07:31Z   \n",
       "\n",
       "                                     contract  \\\n",
       "0  0x41a322b28d0ff354040e2cbc676f0320d8c8850d   \n",
       "1  0x41a322b28d0ff354040e2cbc676f0320d8c8850d   \n",
       "2  0x41a322b28d0ff354040e2cbc676f0320d8c8850d   \n",
       "\n",
       "                                       transactionId  \n",
       "0  0xf3e68d3a53b1bb3a2cdb4aa3a6c871626e6dcf7b8df1...  \n",
       "1  0x8fb08cb45e1a0032dccd0951812dba7a8ebe5b255bdd...  \n",
       "2  0xdf2952f467fddc9f81f6beada8dc2bed1ae4e497c0d2...  "
      ]
     },
     "execution_count": 30,
     "metadata": {},
     "output_type": "execute_result"
    }
   ],
   "source": [
    "df_artworks.head(3)"
   ]
  },
  {
   "cell_type": "markdown",
   "metadata": {},
   "source": [
    "In `df_sales`, each row represents a sale transaction. In `df_artworks`, each row represents an artwork. You can join the tables using the `tokenId` variable."
   ]
  },
  {
   "cell_type": "markdown",
   "metadata": {},
   "source": [
    "### Advice\n",
    "\n",
    "I recommend that you consider at least `eth` (to work in [Ether](https://en.wikipedia.org/wiki/Ethereum)) or `usd` (to work in dollars), and another variable in artworks, for example the `media` or `size` (make sure to deal with missing observations appropriately). \n",
    "\n",
    "For time trends, use the `timestamp` variables."
   ]
  },
  {
   "cell_type": "markdown",
   "metadata": {},
   "source": [
    "---"
   ]
  },
  {
   "cell_type": "code",
   "execution_count": null,
   "metadata": {},
   "outputs": [],
   "source": [
    "# your code here"
   ]
  }
 ],
 "metadata": {
  "kernelspec": {
   "display_name": "Python 3 (ipykernel)",
   "language": "python",
   "name": "python3"
  },
  "language_info": {
   "codemirror_mode": {
    "name": "ipython",
    "version": 3
   },
   "file_extension": ".py",
   "mimetype": "text/x-python",
   "name": "python",
   "nbconvert_exporter": "python",
   "pygments_lexer": "ipython3",
   "version": "3.9.7"
  },
  "toc": {
   "base_numbering": 1,
   "nav_menu": {},
   "number_sections": true,
   "sideBar": true,
   "skip_h1_title": false,
   "title_cell": "Table of Contents",
   "title_sidebar": "Contents",
   "toc_cell": false,
   "toc_position": {},
   "toc_section_display": true,
   "toc_window_display": false
  }
 },
 "nbformat": 4,
 "nbformat_minor": 4
}
