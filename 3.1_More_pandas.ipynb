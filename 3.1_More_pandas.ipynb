{
 "cells": [
  {
   "cell_type": "markdown",
   "metadata": {},
   "source": [
    "# Towards data exploration\n",
    "\n",
    "In this notebook, we will focus on two essential skills in data analysis:\n",
    "\n",
    "1. The ability to add select, aggregate and transform data in a dataframe (**part 1**)\n",
    "2. The ability to get insights about a dataset by means of plotting and summary statistics (**part 2**)"
   ]
  },
  {
   "cell_type": "markdown",
   "metadata": {},
   "source": [
    "## More pandas skills"
   ]
  },
  {
   "cell_type": "code",
   "execution_count": 18,
   "metadata": {},
   "outputs": [],
   "source": [
    "import pandas as pd"
   ]
  },
  {
   "cell_type": "markdown",
   "metadata": {},
   "source": [
    "### Load dataset"
   ]
  },
  {
   "cell_type": "markdown",
   "metadata": {},
   "source": [
    "Let's read in a CSV file containing an export of [Elon Musk's tweets](https://twitter.com/elonmusk), exported from Twitter's API. "
   ]
  },
  {
   "cell_type": "code",
   "execution_count": 19,
   "metadata": {},
   "outputs": [],
   "source": [
    "df = pd.read_csv(\"https://raw.githubusercontent.com/mromanello/ADA-DHOxSS/master/data/musk_tweets/elonmusk_tweets.csv\")"
   ]
  },
  {
   "cell_type": "code",
   "execution_count": 20,
   "metadata": {},
   "outputs": [
    {
     "name": "stdout",
     "output_type": "stream",
     "text": [
      "<class 'pandas.core.frame.DataFrame'>\n",
      "RangeIndex: 2819 entries, 0 to 2818\n",
      "Data columns (total 3 columns):\n",
      " #   Column      Non-Null Count  Dtype \n",
      "---  ------      --------------  ----- \n",
      " 0   id          2819 non-null   int64 \n",
      " 1   created_at  2819 non-null   object\n",
      " 2   text        2819 non-null   object\n",
      "dtypes: int64(1), object(2)\n",
      "memory usage: 66.2+ KB\n"
     ]
    }
   ],
   "source": [
    "df.info()"
   ]
  },
  {
   "cell_type": "markdown",
   "metadata": {},
   "source": [
    "Let's give this dataset a bit more structure:\n",
    "- the `id` column can be transformed into the dataframe's index, thus enabling us e.g. to select a tweet by id;\n",
    "- `created_at` contains a timestamp, thus it can easily be converted into a `datetime` value\n",
    "- but what's going on with the text column ??"
   ]
  },
  {
   "cell_type": "code",
   "execution_count": 21,
   "metadata": {},
   "outputs": [],
   "source": [
    "df.set_index('id', drop=True, inplace=True)"
   ]
  },
  {
   "cell_type": "code",
   "execution_count": 22,
   "metadata": {},
   "outputs": [],
   "source": [
    "df.created_at = pd.to_datetime(df.created_at)"
   ]
  },
  {
   "cell_type": "code",
   "execution_count": 23,
   "metadata": {},
   "outputs": [
    {
     "name": "stdout",
     "output_type": "stream",
     "text": [
      "<class 'pandas.core.frame.DataFrame'>\n",
      "Int64Index: 2819 entries, 849636868052275200 to 15434727182\n",
      "Data columns (total 2 columns):\n",
      " #   Column      Non-Null Count  Dtype         \n",
      "---  ------      --------------  -----         \n",
      " 0   created_at  2819 non-null   datetime64[ns]\n",
      " 1   text        2819 non-null   object        \n",
      "dtypes: datetime64[ns](1), object(1)\n",
      "memory usage: 66.1+ KB\n"
     ]
    }
   ],
   "source": [
    "df.info()"
   ]
  },
  {
   "cell_type": "markdown",
   "metadata": {},
   "source": [
    "### Selection"
   ]
  },
  {
   "cell_type": "markdown",
   "metadata": {},
   "source": [
    "#### Renaming columns"
   ]
  },
  {
   "cell_type": "markdown",
   "metadata": {},
   "source": [
    "An operation on dataframes that you'll find yourself doing very often is to rename the columns. "
   ]
  },
  {
   "cell_type": "markdown",
   "metadata": {},
   "source": [
    "The first way of renaming columns is by manipulating directly the dataframe's index via the `columns` property."
   ]
  },
  {
   "cell_type": "code",
   "execution_count": 24,
   "metadata": {},
   "outputs": [
    {
     "data": {
      "text/plain": [
       "Index(['created_at', 'text'], dtype='object')"
      ]
     },
     "execution_count": 24,
     "metadata": {},
     "output_type": "execute_result"
    }
   ],
   "source": [
    "df.columns"
   ]
  },
  {
   "cell_type": "markdown",
   "metadata": {},
   "source": [
    "We can change the column names by assigning to `columns` a list having as values the new column names.\n",
    "\n",
    "**NB**: the size of the list and new number of colums must match!"
   ]
  },
  {
   "cell_type": "code",
   "execution_count": 25,
   "metadata": {},
   "outputs": [],
   "source": [
    "# here we renamed the column `text` => `tweet`\n",
    "df.columns = ['created_at', 'tweet']"
   ]
  },
  {
   "cell_type": "code",
   "execution_count": 26,
   "metadata": {},
   "outputs": [
    {
     "data": {
      "text/html": [
       "<div>\n",
       "<style scoped>\n",
       "    .dataframe tbody tr th:only-of-type {\n",
       "        vertical-align: middle;\n",
       "    }\n",
       "\n",
       "    .dataframe tbody tr th {\n",
       "        vertical-align: top;\n",
       "    }\n",
       "\n",
       "    .dataframe thead th {\n",
       "        text-align: right;\n",
       "    }\n",
       "</style>\n",
       "<table border=\"1\" class=\"dataframe\">\n",
       "  <thead>\n",
       "    <tr style=\"text-align: right;\">\n",
       "      <th></th>\n",
       "      <th>created_at</th>\n",
       "      <th>tweet</th>\n",
       "    </tr>\n",
       "    <tr>\n",
       "      <th>id</th>\n",
       "      <th></th>\n",
       "      <th></th>\n",
       "    </tr>\n",
       "  </thead>\n",
       "  <tbody>\n",
       "    <tr>\n",
       "      <th>849636868052275200</th>\n",
       "      <td>2017-04-05 14:56:29</td>\n",
       "      <td>b'And so the robots spared humanity ... https:...</td>\n",
       "    </tr>\n",
       "    <tr>\n",
       "      <th>848988730585096192</th>\n",
       "      <td>2017-04-03 20:01:01</td>\n",
       "      <td>b\"@ForIn2020 @waltmossberg @mims @defcon_5 Exa...</td>\n",
       "    </tr>\n",
       "    <tr>\n",
       "      <th>848943072423497728</th>\n",
       "      <td>2017-04-03 16:59:35</td>\n",
       "      <td>b'@waltmossberg @mims @defcon_5 Et tu, Walt?'</td>\n",
       "    </tr>\n",
       "    <tr>\n",
       "      <th>848935705057280001</th>\n",
       "      <td>2017-04-03 16:30:19</td>\n",
       "      <td>b'Stormy weather in Shortville ...'</td>\n",
       "    </tr>\n",
       "    <tr>\n",
       "      <th>848416049573658624</th>\n",
       "      <td>2017-04-02 06:05:23</td>\n",
       "      <td>b\"@DaveLeeBBC @verge Coal is dying due to nat ...</td>\n",
       "    </tr>\n",
       "  </tbody>\n",
       "</table>\n",
       "</div>"
      ],
      "text/plain": [
       "                            created_at  \\\n",
       "id                                       \n",
       "849636868052275200 2017-04-05 14:56:29   \n",
       "848988730585096192 2017-04-03 20:01:01   \n",
       "848943072423497728 2017-04-03 16:59:35   \n",
       "848935705057280001 2017-04-03 16:30:19   \n",
       "848416049573658624 2017-04-02 06:05:23   \n",
       "\n",
       "                                                                tweet  \n",
       "id                                                                     \n",
       "849636868052275200  b'And so the robots spared humanity ... https:...  \n",
       "848988730585096192  b\"@ForIn2020 @waltmossberg @mims @defcon_5 Exa...  \n",
       "848943072423497728      b'@waltmossberg @mims @defcon_5 Et tu, Walt?'  \n",
       "848935705057280001                b'Stormy weather in Shortville ...'  \n",
       "848416049573658624  b\"@DaveLeeBBC @verge Coal is dying due to nat ...  "
      ]
     },
     "execution_count": 26,
     "metadata": {},
     "output_type": "execute_result"
    }
   ],
   "source": [
    "# let's check that the change did take place\n",
    "df.head()"
   ]
  },
  {
   "cell_type": "markdown",
   "metadata": {},
   "source": [
    "The second way of renaming colums is to use the method `rename()` of a dataframe. The `columns` parameter takes a dictionary of mappings between old and new column names.\n",
    "\n",
    "```python\n",
    "mapping_dict = {\n",
    "    \"old_column_name\": \"new_column_name\"\n",
    "}\n",
    "```"
   ]
  },
  {
   "cell_type": "code",
   "execution_count": 27,
   "metadata": {},
   "outputs": [],
   "source": [
    "# let's change column `tweet` => `text`\n",
    "df = df.rename(columns={\"tweet\": \"text\"})"
   ]
  },
  {
   "cell_type": "code",
   "execution_count": 28,
   "metadata": {},
   "outputs": [
    {
     "data": {
      "text/html": [
       "<div>\n",
       "<style scoped>\n",
       "    .dataframe tbody tr th:only-of-type {\n",
       "        vertical-align: middle;\n",
       "    }\n",
       "\n",
       "    .dataframe tbody tr th {\n",
       "        vertical-align: top;\n",
       "    }\n",
       "\n",
       "    .dataframe thead th {\n",
       "        text-align: right;\n",
       "    }\n",
       "</style>\n",
       "<table border=\"1\" class=\"dataframe\">\n",
       "  <thead>\n",
       "    <tr style=\"text-align: right;\">\n",
       "      <th></th>\n",
       "      <th>created_at</th>\n",
       "      <th>text</th>\n",
       "    </tr>\n",
       "    <tr>\n",
       "      <th>id</th>\n",
       "      <th></th>\n",
       "      <th></th>\n",
       "    </tr>\n",
       "  </thead>\n",
       "  <tbody>\n",
       "    <tr>\n",
       "      <th>849636868052275200</th>\n",
       "      <td>2017-04-05 14:56:29</td>\n",
       "      <td>b'And so the robots spared humanity ... https:...</td>\n",
       "    </tr>\n",
       "    <tr>\n",
       "      <th>848988730585096192</th>\n",
       "      <td>2017-04-03 20:01:01</td>\n",
       "      <td>b\"@ForIn2020 @waltmossberg @mims @defcon_5 Exa...</td>\n",
       "    </tr>\n",
       "    <tr>\n",
       "      <th>848943072423497728</th>\n",
       "      <td>2017-04-03 16:59:35</td>\n",
       "      <td>b'@waltmossberg @mims @defcon_5 Et tu, Walt?'</td>\n",
       "    </tr>\n",
       "    <tr>\n",
       "      <th>848935705057280001</th>\n",
       "      <td>2017-04-03 16:30:19</td>\n",
       "      <td>b'Stormy weather in Shortville ...'</td>\n",
       "    </tr>\n",
       "    <tr>\n",
       "      <th>848416049573658624</th>\n",
       "      <td>2017-04-02 06:05:23</td>\n",
       "      <td>b\"@DaveLeeBBC @verge Coal is dying due to nat ...</td>\n",
       "    </tr>\n",
       "  </tbody>\n",
       "</table>\n",
       "</div>"
      ],
      "text/plain": [
       "                            created_at  \\\n",
       "id                                       \n",
       "849636868052275200 2017-04-05 14:56:29   \n",
       "848988730585096192 2017-04-03 20:01:01   \n",
       "848943072423497728 2017-04-03 16:59:35   \n",
       "848935705057280001 2017-04-03 16:30:19   \n",
       "848416049573658624 2017-04-02 06:05:23   \n",
       "\n",
       "                                                                 text  \n",
       "id                                                                     \n",
       "849636868052275200  b'And so the robots spared humanity ... https:...  \n",
       "848988730585096192  b\"@ForIn2020 @waltmossberg @mims @defcon_5 Exa...  \n",
       "848943072423497728      b'@waltmossberg @mims @defcon_5 Et tu, Walt?'  \n",
       "848935705057280001                b'Stormy weather in Shortville ...'  \n",
       "848416049573658624  b\"@DaveLeeBBC @verge Coal is dying due to nat ...  "
      ]
     },
     "execution_count": 28,
     "metadata": {},
     "output_type": "execute_result"
    }
   ],
   "source": [
    "df.head()"
   ]
  },
  {
   "cell_type": "markdown",
   "metadata": {},
   "source": [
    "**Question**: in which cases is it more convenient to use the second method over the first?"
   ]
  },
  {
   "cell_type": "markdown",
   "metadata": {},
   "source": [
    "#### Selecting columns"
   ]
  },
  {
   "cell_type": "code",
   "execution_count": 29,
   "metadata": {},
   "outputs": [
    {
     "data": {
      "text/plain": [
       "id\n",
       "849636868052275200   2017-04-05 14:56:29\n",
       "848988730585096192   2017-04-03 20:01:01\n",
       "848943072423497728   2017-04-03 16:59:35\n",
       "848935705057280001   2017-04-03 16:30:19\n",
       "848416049573658624   2017-04-02 06:05:23\n",
       "Name: created_at, dtype: datetime64[ns]"
      ]
     },
     "execution_count": 29,
     "metadata": {},
     "output_type": "execute_result"
    }
   ],
   "source": [
    "# this selects one single column and returns as a Series\n",
    "df[\"created_at\"].head()"
   ]
  },
  {
   "cell_type": "code",
   "execution_count": 30,
   "metadata": {},
   "outputs": [
    {
     "data": {
      "text/plain": [
       "pandas.core.series.Series"
      ]
     },
     "execution_count": 30,
     "metadata": {},
     "output_type": "execute_result"
    }
   ],
   "source": [
    "type(df[\"created_at\"])"
   ]
  },
  {
   "cell_type": "code",
   "execution_count": 31,
   "metadata": {},
   "outputs": [
    {
     "data": {
      "text/html": [
       "<div>\n",
       "<style scoped>\n",
       "    .dataframe tbody tr th:only-of-type {\n",
       "        vertical-align: middle;\n",
       "    }\n",
       "\n",
       "    .dataframe tbody tr th {\n",
       "        vertical-align: top;\n",
       "    }\n",
       "\n",
       "    .dataframe thead th {\n",
       "        text-align: right;\n",
       "    }\n",
       "</style>\n",
       "<table border=\"1\" class=\"dataframe\">\n",
       "  <thead>\n",
       "    <tr style=\"text-align: right;\">\n",
       "      <th></th>\n",
       "      <th>created_at</th>\n",
       "    </tr>\n",
       "    <tr>\n",
       "      <th>id</th>\n",
       "      <th></th>\n",
       "    </tr>\n",
       "  </thead>\n",
       "  <tbody>\n",
       "    <tr>\n",
       "      <th>849636868052275200</th>\n",
       "      <td>2017-04-05 14:56:29</td>\n",
       "    </tr>\n",
       "    <tr>\n",
       "      <th>848988730585096192</th>\n",
       "      <td>2017-04-03 20:01:01</td>\n",
       "    </tr>\n",
       "    <tr>\n",
       "      <th>848943072423497728</th>\n",
       "      <td>2017-04-03 16:59:35</td>\n",
       "    </tr>\n",
       "    <tr>\n",
       "      <th>848935705057280001</th>\n",
       "      <td>2017-04-03 16:30:19</td>\n",
       "    </tr>\n",
       "    <tr>\n",
       "      <th>848416049573658624</th>\n",
       "      <td>2017-04-02 06:05:23</td>\n",
       "    </tr>\n",
       "  </tbody>\n",
       "</table>\n",
       "</div>"
      ],
      "text/plain": [
       "                            created_at\n",
       "id                                    \n",
       "849636868052275200 2017-04-05 14:56:29\n",
       "848988730585096192 2017-04-03 20:01:01\n",
       "848943072423497728 2017-04-03 16:59:35\n",
       "848935705057280001 2017-04-03 16:30:19\n",
       "848416049573658624 2017-04-02 06:05:23"
      ]
     },
     "execution_count": 31,
     "metadata": {},
     "output_type": "execute_result"
    }
   ],
   "source": [
    "# whereas this syntax selects one single column\n",
    "# but returns a Dataframe\n",
    "df[[\"created_at\"]].head()"
   ]
  },
  {
   "cell_type": "code",
   "execution_count": 32,
   "metadata": {},
   "outputs": [
    {
     "data": {
      "text/plain": [
       "pandas.core.frame.DataFrame"
      ]
     },
     "execution_count": 32,
     "metadata": {},
     "output_type": "execute_result"
    }
   ],
   "source": [
    "type(df[[\"created_at\"]])"
   ]
  },
  {
   "cell_type": "markdown",
   "metadata": {},
   "source": [
    "####  Selecting rows\n",
    "\n",
    "Filtering rows in `pandas` is done by means of `[ ]`, which can contain the row number as well as a condition for the selection."
   ]
  },
  {
   "cell_type": "code",
   "execution_count": 33,
   "metadata": {},
   "outputs": [
    {
     "data": {
      "text/html": [
       "<div>\n",
       "<style scoped>\n",
       "    .dataframe tbody tr th:only-of-type {\n",
       "        vertical-align: middle;\n",
       "    }\n",
       "\n",
       "    .dataframe tbody tr th {\n",
       "        vertical-align: top;\n",
       "    }\n",
       "\n",
       "    .dataframe thead th {\n",
       "        text-align: right;\n",
       "    }\n",
       "</style>\n",
       "<table border=\"1\" class=\"dataframe\">\n",
       "  <thead>\n",
       "    <tr style=\"text-align: right;\">\n",
       "      <th></th>\n",
       "      <th>created_at</th>\n",
       "      <th>text</th>\n",
       "    </tr>\n",
       "    <tr>\n",
       "      <th>id</th>\n",
       "      <th></th>\n",
       "      <th></th>\n",
       "    </tr>\n",
       "  </thead>\n",
       "  <tbody>\n",
       "    <tr>\n",
       "      <th>849636868052275200</th>\n",
       "      <td>2017-04-05 14:56:29</td>\n",
       "      <td>b'And so the robots spared humanity ... https:...</td>\n",
       "    </tr>\n",
       "    <tr>\n",
       "      <th>848988730585096192</th>\n",
       "      <td>2017-04-03 20:01:01</td>\n",
       "      <td>b\"@ForIn2020 @waltmossberg @mims @defcon_5 Exa...</td>\n",
       "    </tr>\n",
       "  </tbody>\n",
       "</table>\n",
       "</div>"
      ],
      "text/plain": [
       "                            created_at  \\\n",
       "id                                       \n",
       "849636868052275200 2017-04-05 14:56:29   \n",
       "848988730585096192 2017-04-03 20:01:01   \n",
       "\n",
       "                                                                 text  \n",
       "id                                                                     \n",
       "849636868052275200  b'And so the robots spared humanity ... https:...  \n",
       "848988730585096192  b\"@ForIn2020 @waltmossberg @mims @defcon_5 Exa...  "
      ]
     },
     "execution_count": 33,
     "metadata": {},
     "output_type": "execute_result"
    }
   ],
   "source": [
    "df[0:2]"
   ]
  },
  {
   "cell_type": "markdown",
   "metadata": {},
   "source": [
    "#### Other selections\n",
    "\n",
    "Can be done using normal conditions (==, >, <, ..) and boolean operators."
   ]
  },
  {
   "cell_type": "markdown",
   "metadata": {},
   "source": [
    "### Transformation\n",
    "\n",
    "\n",
    "The two main functions used to manipulate and transform values in a dataframe are:\n",
    "- `map()`\n",
    "- `apply()`\n",
    "\n",
    "In this section we'll be using both to enrich our datasets with useful information (useful for exploration, for later visualizations, etc.)."
   ]
  },
  {
   "cell_type": "markdown",
   "metadata": {},
   "source": [
    "#### Add link to original tweet"
   ]
  },
  {
   "cell_type": "markdown",
   "metadata": {},
   "source": [
    "The `map()` method can be called on a column, as well as on the dataframe's index.\n",
    "\n",
    "When passed as a parameter to `map`, the functional programming-stlye function `lambda` can be used to transform any value from that column into another one.   "
   ]
  },
  {
   "cell_type": "code",
   "execution_count": 38,
   "metadata": {},
   "outputs": [],
   "source": [
    "df['tweet_link'] = df.index.map(lambda x: f'https://twitter.com/i/web/status/{x}')"
   ]
  },
  {
   "cell_type": "code",
   "execution_count": 39,
   "metadata": {},
   "outputs": [
    {
     "data": {
      "text/html": [
       "<style  type=\"text/css\" >\n",
       "</style><table id=\"T_0f0b1_\" ><thead>    <tr>        <th class=\"blank level0\" ></th>        <th class=\"col_heading level0 col0\" >created_at</th>        <th class=\"col_heading level0 col1\" >text</th>        <th class=\"col_heading level0 col2\" >tweet_link</th>    </tr>    <tr>        <th class=\"index_name level0\" >id</th>        <th class=\"blank\" ></th>        <th class=\"blank\" ></th>        <th class=\"blank\" ></th>    </tr></thead><tbody>\n",
       "                <tr>\n",
       "                        <th id=\"T_0f0b1_level0_row0\" class=\"row_heading level0 row0\" >849636868052275200</th>\n",
       "                        <td id=\"T_0f0b1_row0_col0\" class=\"data row0 col0\" >2017-04-05 14:56:29</td>\n",
       "                        <td id=\"T_0f0b1_row0_col1\" class=\"data row0 col1\" >b'And so the robots spared humanity ... https://t.co/v7JUJQWfCv'</td>\n",
       "                        <td id=\"T_0f0b1_row0_col2\" class=\"data row0 col2\" ><a target=\"_blank\" href=\"https://twitter.com/i/web/status/849636868052275200\">https://twitter.com/i/web/status/849636868052275200</a></td>\n",
       "            </tr>\n",
       "            <tr>\n",
       "                        <th id=\"T_0f0b1_level0_row1\" class=\"row_heading level0 row1\" >848988730585096192</th>\n",
       "                        <td id=\"T_0f0b1_row1_col0\" class=\"data row1 col0\" >2017-04-03 20:01:01</td>\n",
       "                        <td id=\"T_0f0b1_row1_col1\" class=\"data row1 col1\" >b\"@ForIn2020 @waltmossberg @mims @defcon_5 Exactly. Tesla is absurdly overvalued if based on the past, but that's irr\\xe2\\x80\\xa6 https://t.co/qQcTqkzgMl\"</td>\n",
       "                        <td id=\"T_0f0b1_row1_col2\" class=\"data row1 col2\" ><a target=\"_blank\" href=\"https://twitter.com/i/web/status/848988730585096192\">https://twitter.com/i/web/status/848988730585096192</a></td>\n",
       "            </tr>\n",
       "            <tr>\n",
       "                        <th id=\"T_0f0b1_level0_row2\" class=\"row_heading level0 row2\" >848943072423497728</th>\n",
       "                        <td id=\"T_0f0b1_row2_col0\" class=\"data row2 col0\" >2017-04-03 16:59:35</td>\n",
       "                        <td id=\"T_0f0b1_row2_col1\" class=\"data row2 col1\" >b'@waltmossberg @mims @defcon_5 Et tu, Walt?'</td>\n",
       "                        <td id=\"T_0f0b1_row2_col2\" class=\"data row2 col2\" ><a target=\"_blank\" href=\"https://twitter.com/i/web/status/848943072423497728\">https://twitter.com/i/web/status/848943072423497728</a></td>\n",
       "            </tr>\n",
       "            <tr>\n",
       "                        <th id=\"T_0f0b1_level0_row3\" class=\"row_heading level0 row3\" >848935705057280001</th>\n",
       "                        <td id=\"T_0f0b1_row3_col0\" class=\"data row3 col0\" >2017-04-03 16:30:19</td>\n",
       "                        <td id=\"T_0f0b1_row3_col1\" class=\"data row3 col1\" >b'Stormy weather in Shortville ...'</td>\n",
       "                        <td id=\"T_0f0b1_row3_col2\" class=\"data row3 col2\" ><a target=\"_blank\" href=\"https://twitter.com/i/web/status/848935705057280001\">https://twitter.com/i/web/status/848935705057280001</a></td>\n",
       "            </tr>\n",
       "            <tr>\n",
       "                        <th id=\"T_0f0b1_level0_row4\" class=\"row_heading level0 row4\" >848416049573658624</th>\n",
       "                        <td id=\"T_0f0b1_row4_col0\" class=\"data row4 col0\" >2017-04-02 06:05:23</td>\n",
       "                        <td id=\"T_0f0b1_row4_col1\" class=\"data row4 col1\" >b\"@DaveLeeBBC @verge Coal is dying due to nat gas fracking. It's basically dead.\"</td>\n",
       "                        <td id=\"T_0f0b1_row4_col2\" class=\"data row4 col2\" ><a target=\"_blank\" href=\"https://twitter.com/i/web/status/848416049573658624\">https://twitter.com/i/web/status/848416049573658624</a></td>\n",
       "            </tr>\n",
       "    </tbody></table>"
      ],
      "text/plain": [
       "<pandas.io.formats.style.Styler at 0x114ad05e0>"
      ]
     },
     "execution_count": 39,
     "metadata": {},
     "output_type": "execute_result"
    }
   ],
   "source": [
    "pd.set_option(\"display.max_colwidth\", 10000)\n",
    "\n",
    "def make_clickable(val):\n",
    "    # target _blank to open new window\n",
    "    return '<a target=\"_blank\" href=\"{}\">{}</a>'.format(val, val)\n",
    "\n",
    "df.head().style.format({'tweet_link': make_clickable})\n",
    "\n",
    "# to apply the style to the entire dataframe just remove\n",
    "# `.head` from the line above"
   ]
  },
  {
   "cell_type": "markdown",
   "metadata": {},
   "source": [
    "#### Add colums with mentions"
   ]
  },
  {
   "cell_type": "code",
   "execution_count": 40,
   "metadata": {},
   "outputs": [],
   "source": [
    "import re\n",
    "\n",
    "def find_mentions(tweet_text):\n",
    "    handle_regexp = r'@[a-zA-Z0-9_]{1,15}'\n",
    "    return re.findall(handle_regexp, tweet_text)"
   ]
  },
  {
   "cell_type": "code",
   "execution_count": 41,
   "metadata": {},
   "outputs": [],
   "source": [
    "df['tweet_mentions'] = df.text.apply(find_mentions)"
   ]
  },
  {
   "cell_type": "code",
   "execution_count": 42,
   "metadata": {},
   "outputs": [],
   "source": [
    "df['n_mentions'] = df.tweet_mentions.apply(len)"
   ]
  },
  {
   "cell_type": "code",
   "execution_count": 43,
   "metadata": {},
   "outputs": [
    {
     "data": {
      "text/html": [
       "<div>\n",
       "<style scoped>\n",
       "    .dataframe tbody tr th:only-of-type {\n",
       "        vertical-align: middle;\n",
       "    }\n",
       "\n",
       "    .dataframe tbody tr th {\n",
       "        vertical-align: top;\n",
       "    }\n",
       "\n",
       "    .dataframe thead th {\n",
       "        text-align: right;\n",
       "    }\n",
       "</style>\n",
       "<table border=\"1\" class=\"dataframe\">\n",
       "  <thead>\n",
       "    <tr style=\"text-align: right;\">\n",
       "      <th></th>\n",
       "      <th>created_at</th>\n",
       "      <th>text</th>\n",
       "      <th>tweet_link</th>\n",
       "      <th>tweet_mentions</th>\n",
       "      <th>n_mentions</th>\n",
       "    </tr>\n",
       "    <tr>\n",
       "      <th>id</th>\n",
       "      <th></th>\n",
       "      <th></th>\n",
       "      <th></th>\n",
       "      <th></th>\n",
       "      <th></th>\n",
       "    </tr>\n",
       "  </thead>\n",
       "  <tbody>\n",
       "    <tr>\n",
       "      <th>849636868052275200</th>\n",
       "      <td>2017-04-05 14:56:29</td>\n",
       "      <td>b'And so the robots spared humanity ... https://t.co/v7JUJQWfCv'</td>\n",
       "      <td>https://twitter.com/i/web/status/849636868052275200</td>\n",
       "      <td>[]</td>\n",
       "      <td>0</td>\n",
       "    </tr>\n",
       "    <tr>\n",
       "      <th>848988730585096192</th>\n",
       "      <td>2017-04-03 20:01:01</td>\n",
       "      <td>b\"@ForIn2020 @waltmossberg @mims @defcon_5 Exactly. Tesla is absurdly overvalued if based on the past, but that's irr\\xe2\\x80\\xa6 https://t.co/qQcTqkzgMl\"</td>\n",
       "      <td>https://twitter.com/i/web/status/848988730585096192</td>\n",
       "      <td>[@ForIn2020, @waltmossberg, @mims, @defcon_5]</td>\n",
       "      <td>4</td>\n",
       "    </tr>\n",
       "    <tr>\n",
       "      <th>848943072423497728</th>\n",
       "      <td>2017-04-03 16:59:35</td>\n",
       "      <td>b'@waltmossberg @mims @defcon_5 Et tu, Walt?'</td>\n",
       "      <td>https://twitter.com/i/web/status/848943072423497728</td>\n",
       "      <td>[@waltmossberg, @mims, @defcon_5]</td>\n",
       "      <td>3</td>\n",
       "    </tr>\n",
       "    <tr>\n",
       "      <th>848935705057280001</th>\n",
       "      <td>2017-04-03 16:30:19</td>\n",
       "      <td>b'Stormy weather in Shortville ...'</td>\n",
       "      <td>https://twitter.com/i/web/status/848935705057280001</td>\n",
       "      <td>[]</td>\n",
       "      <td>0</td>\n",
       "    </tr>\n",
       "    <tr>\n",
       "      <th>848416049573658624</th>\n",
       "      <td>2017-04-02 06:05:23</td>\n",
       "      <td>b\"@DaveLeeBBC @verge Coal is dying due to nat gas fracking. It's basically dead.\"</td>\n",
       "      <td>https://twitter.com/i/web/status/848416049573658624</td>\n",
       "      <td>[@DaveLeeBBC, @verge]</td>\n",
       "      <td>2</td>\n",
       "    </tr>\n",
       "  </tbody>\n",
       "</table>\n",
       "</div>"
      ],
      "text/plain": [
       "                            created_at  \\\n",
       "id                                       \n",
       "849636868052275200 2017-04-05 14:56:29   \n",
       "848988730585096192 2017-04-03 20:01:01   \n",
       "848943072423497728 2017-04-03 16:59:35   \n",
       "848935705057280001 2017-04-03 16:30:19   \n",
       "848416049573658624 2017-04-02 06:05:23   \n",
       "\n",
       "                                                                                                                                                                          text  \\\n",
       "id                                                                                                                                                                               \n",
       "849636868052275200                                                                                            b'And so the robots spared humanity ... https://t.co/v7JUJQWfCv'   \n",
       "848988730585096192  b\"@ForIn2020 @waltmossberg @mims @defcon_5 Exactly. Tesla is absurdly overvalued if based on the past, but that's irr\\xe2\\x80\\xa6 https://t.co/qQcTqkzgMl\"   \n",
       "848943072423497728                                                                                                               b'@waltmossberg @mims @defcon_5 Et tu, Walt?'   \n",
       "848935705057280001                                                                                                                         b'Stormy weather in Shortville ...'   \n",
       "848416049573658624                                                                           b\"@DaveLeeBBC @verge Coal is dying due to nat gas fracking. It's basically dead.\"   \n",
       "\n",
       "                                                             tweet_link  \\\n",
       "id                                                                        \n",
       "849636868052275200  https://twitter.com/i/web/status/849636868052275200   \n",
       "848988730585096192  https://twitter.com/i/web/status/848988730585096192   \n",
       "848943072423497728  https://twitter.com/i/web/status/848943072423497728   \n",
       "848935705057280001  https://twitter.com/i/web/status/848935705057280001   \n",
       "848416049573658624  https://twitter.com/i/web/status/848416049573658624   \n",
       "\n",
       "                                                   tweet_mentions  n_mentions  \n",
       "id                                                                             \n",
       "849636868052275200                                             []           0  \n",
       "848988730585096192  [@ForIn2020, @waltmossberg, @mims, @defcon_5]           4  \n",
       "848943072423497728              [@waltmossberg, @mims, @defcon_5]           3  \n",
       "848935705057280001                                             []           0  \n",
       "848416049573658624                          [@DaveLeeBBC, @verge]           2  "
      ]
     },
     "execution_count": 43,
     "metadata": {},
     "output_type": "execute_result"
    }
   ],
   "source": [
    "df.head()"
   ]
  },
  {
   "cell_type": "markdown",
   "metadata": {},
   "source": [
    "#### Add column with week day"
   ]
  },
  {
   "cell_type": "code",
   "execution_count": 45,
   "metadata": {},
   "outputs": [
    {
     "data": {
      "text/plain": [
       "id\n",
       "849636868052275200    Wednesday\n",
       "848988730585096192       Monday\n",
       "848943072423497728       Monday\n",
       "848935705057280001       Monday\n",
       "848416049573658624       Sunday\n",
       "Name: created_at, dtype: object"
      ]
     },
     "execution_count": 45,
     "metadata": {},
     "output_type": "execute_result"
    }
   ],
   "source": [
    "df.created_at.dt.day_name().head()"
   ]
  },
  {
   "cell_type": "code",
   "execution_count": 46,
   "metadata": {},
   "outputs": [],
   "source": [
    "df[\"week_day_name\"] = df.created_at.dt.day_name()"
   ]
  },
  {
   "cell_type": "code",
   "execution_count": 48,
   "metadata": {},
   "outputs": [],
   "source": [
    "df[\"week_day\"] = df.created_at.dt.weekday"
   ]
  },
  {
   "cell_type": "code",
   "execution_count": 49,
   "metadata": {},
   "outputs": [
    {
     "data": {
      "text/html": [
       "<div>\n",
       "<style scoped>\n",
       "    .dataframe tbody tr th:only-of-type {\n",
       "        vertical-align: middle;\n",
       "    }\n",
       "\n",
       "    .dataframe tbody tr th {\n",
       "        vertical-align: top;\n",
       "    }\n",
       "\n",
       "    .dataframe thead th {\n",
       "        text-align: right;\n",
       "    }\n",
       "</style>\n",
       "<table border=\"1\" class=\"dataframe\">\n",
       "  <thead>\n",
       "    <tr style=\"text-align: right;\">\n",
       "      <th></th>\n",
       "      <th>created_at</th>\n",
       "      <th>text</th>\n",
       "      <th>tweet_link</th>\n",
       "      <th>tweet_mentions</th>\n",
       "      <th>n_mentions</th>\n",
       "      <th>week_day_name</th>\n",
       "      <th>week_day</th>\n",
       "    </tr>\n",
       "    <tr>\n",
       "      <th>id</th>\n",
       "      <th></th>\n",
       "      <th></th>\n",
       "      <th></th>\n",
       "      <th></th>\n",
       "      <th></th>\n",
       "      <th></th>\n",
       "      <th></th>\n",
       "    </tr>\n",
       "  </thead>\n",
       "  <tbody>\n",
       "    <tr>\n",
       "      <th>849636868052275200</th>\n",
       "      <td>2017-04-05 14:56:29</td>\n",
       "      <td>b'And so the robots spared humanity ... https://t.co/v7JUJQWfCv'</td>\n",
       "      <td>https://twitter.com/i/web/status/849636868052275200</td>\n",
       "      <td>[]</td>\n",
       "      <td>0</td>\n",
       "      <td>Wednesday</td>\n",
       "      <td>2</td>\n",
       "    </tr>\n",
       "    <tr>\n",
       "      <th>848988730585096192</th>\n",
       "      <td>2017-04-03 20:01:01</td>\n",
       "      <td>b\"@ForIn2020 @waltmossberg @mims @defcon_5 Exactly. Tesla is absurdly overvalued if based on the past, but that's irr\\xe2\\x80\\xa6 https://t.co/qQcTqkzgMl\"</td>\n",
       "      <td>https://twitter.com/i/web/status/848988730585096192</td>\n",
       "      <td>[@ForIn2020, @waltmossberg, @mims, @defcon_5]</td>\n",
       "      <td>4</td>\n",
       "      <td>Monday</td>\n",
       "      <td>0</td>\n",
       "    </tr>\n",
       "    <tr>\n",
       "      <th>848943072423497728</th>\n",
       "      <td>2017-04-03 16:59:35</td>\n",
       "      <td>b'@waltmossberg @mims @defcon_5 Et tu, Walt?'</td>\n",
       "      <td>https://twitter.com/i/web/status/848943072423497728</td>\n",
       "      <td>[@waltmossberg, @mims, @defcon_5]</td>\n",
       "      <td>3</td>\n",
       "      <td>Monday</td>\n",
       "      <td>0</td>\n",
       "    </tr>\n",
       "  </tbody>\n",
       "</table>\n",
       "</div>"
      ],
      "text/plain": [
       "                            created_at  \\\n",
       "id                                       \n",
       "849636868052275200 2017-04-05 14:56:29   \n",
       "848988730585096192 2017-04-03 20:01:01   \n",
       "848943072423497728 2017-04-03 16:59:35   \n",
       "\n",
       "                                                                                                                                                                          text  \\\n",
       "id                                                                                                                                                                               \n",
       "849636868052275200                                                                                            b'And so the robots spared humanity ... https://t.co/v7JUJQWfCv'   \n",
       "848988730585096192  b\"@ForIn2020 @waltmossberg @mims @defcon_5 Exactly. Tesla is absurdly overvalued if based on the past, but that's irr\\xe2\\x80\\xa6 https://t.co/qQcTqkzgMl\"   \n",
       "848943072423497728                                                                                                               b'@waltmossberg @mims @defcon_5 Et tu, Walt?'   \n",
       "\n",
       "                                                             tweet_link  \\\n",
       "id                                                                        \n",
       "849636868052275200  https://twitter.com/i/web/status/849636868052275200   \n",
       "848988730585096192  https://twitter.com/i/web/status/848988730585096192   \n",
       "848943072423497728  https://twitter.com/i/web/status/848943072423497728   \n",
       "\n",
       "                                                   tweet_mentions  n_mentions  \\\n",
       "id                                                                              \n",
       "849636868052275200                                             []           0   \n",
       "848988730585096192  [@ForIn2020, @waltmossberg, @mims, @defcon_5]           4   \n",
       "848943072423497728              [@waltmossberg, @mims, @defcon_5]           3   \n",
       "\n",
       "                   week_day_name  week_day  \n",
       "id                                          \n",
       "849636868052275200     Wednesday         2  \n",
       "848988730585096192        Monday         0  \n",
       "848943072423497728        Monday         0  "
      ]
     },
     "execution_count": 49,
     "metadata": {},
     "output_type": "execute_result"
    }
   ],
   "source": [
    "df.head(3)"
   ]
  },
  {
   "cell_type": "markdown",
   "metadata": {},
   "source": [
    "#### Add column with day hour"
   ]
  },
  {
   "cell_type": "code",
   "execution_count": 50,
   "metadata": {},
   "outputs": [],
   "source": [
    "df.created_at.dt?"
   ]
  },
  {
   "cell_type": "code",
   "execution_count": 51,
   "metadata": {},
   "outputs": [
    {
     "data": {
      "text/plain": [
       "id\n",
       "849636868052275200    14\n",
       "848988730585096192    20\n",
       "848943072423497728    16\n",
       "848935705057280001    16\n",
       "848416049573658624     6\n",
       "Name: created_at, dtype: int64"
      ]
     },
     "execution_count": 51,
     "metadata": {},
     "output_type": "execute_result"
    }
   ],
   "source": [
    "df.created_at.dt.hour.head()"
   ]
  },
  {
   "cell_type": "code",
   "execution_count": 52,
   "metadata": {},
   "outputs": [],
   "source": [
    "df[\"day_hour\"] = df.created_at.dt.hour"
   ]
  },
  {
   "cell_type": "code",
   "execution_count": 53,
   "metadata": {},
   "outputs": [
    {
     "data": {
      "text/html": [
       "<div>\n",
       "<style scoped>\n",
       "    .dataframe tbody tr th:only-of-type {\n",
       "        vertical-align: middle;\n",
       "    }\n",
       "\n",
       "    .dataframe tbody tr th {\n",
       "        vertical-align: top;\n",
       "    }\n",
       "\n",
       "    .dataframe thead th {\n",
       "        text-align: right;\n",
       "    }\n",
       "</style>\n",
       "<table border=\"1\" class=\"dataframe\">\n",
       "  <thead>\n",
       "    <tr style=\"text-align: right;\">\n",
       "      <th></th>\n",
       "      <th>created_at</th>\n",
       "      <th>week_day</th>\n",
       "      <th>day_hour</th>\n",
       "    </tr>\n",
       "    <tr>\n",
       "      <th>id</th>\n",
       "      <th></th>\n",
       "      <th></th>\n",
       "      <th></th>\n",
       "    </tr>\n",
       "  </thead>\n",
       "  <tbody>\n",
       "    <tr>\n",
       "      <th>849636868052275200</th>\n",
       "      <td>2017-04-05 14:56:29</td>\n",
       "      <td>2</td>\n",
       "      <td>14</td>\n",
       "    </tr>\n",
       "    <tr>\n",
       "      <th>848988730585096192</th>\n",
       "      <td>2017-04-03 20:01:01</td>\n",
       "      <td>0</td>\n",
       "      <td>20</td>\n",
       "    </tr>\n",
       "    <tr>\n",
       "      <th>848943072423497728</th>\n",
       "      <td>2017-04-03 16:59:35</td>\n",
       "      <td>0</td>\n",
       "      <td>16</td>\n",
       "    </tr>\n",
       "    <tr>\n",
       "      <th>848935705057280001</th>\n",
       "      <td>2017-04-03 16:30:19</td>\n",
       "      <td>0</td>\n",
       "      <td>16</td>\n",
       "    </tr>\n",
       "  </tbody>\n",
       "</table>\n",
       "</div>"
      ],
      "text/plain": [
       "                            created_at  week_day  day_hour\n",
       "id                                                        \n",
       "849636868052275200 2017-04-05 14:56:29         2        14\n",
       "848988730585096192 2017-04-03 20:01:01         0        20\n",
       "848943072423497728 2017-04-03 16:59:35         0        16\n",
       "848935705057280001 2017-04-03 16:30:19         0        16"
      ]
     },
     "execution_count": 53,
     "metadata": {},
     "output_type": "execute_result"
    }
   ],
   "source": [
    "display_cols = ['created_at', 'week_day', 'day_hour']\n",
    "df[display_cols].head(4)"
   ]
  },
  {
   "cell_type": "markdown",
   "metadata": {},
   "source": [
    "#### Quiz\n",
    "\n",
    "* Practice selection:\n",
    "    - Select the tweets which have been posted on a given day of the week\n",
    "    - Select those which have been posted at night\n",
    "    - Select those posted during the weekend and lunch time\n",
    "* Add a column `weekend` with a boolean value, at `True` if the day is during the weekend, and `False` otherwise"
   ]
  },
  {
   "cell_type": "markdown",
   "metadata": {},
   "source": [
    "### Aggregation\n",
    "\n",
    "(Figure taken from W. Mckinney's *Python for Data Analysis* 2013, p. 252)\n",
    "\n",
    "<img src='images/groupby-mechanics.png' width='600px'>"
   ]
  },
  {
   "cell_type": "code",
   "execution_count": 54,
   "metadata": {},
   "outputs": [
    {
     "data": {
      "text/html": [
       "<div>\n",
       "<style scoped>\n",
       "    .dataframe tbody tr th:only-of-type {\n",
       "        vertical-align: middle;\n",
       "    }\n",
       "\n",
       "    .dataframe tbody tr th {\n",
       "        vertical-align: top;\n",
       "    }\n",
       "\n",
       "    .dataframe thead th {\n",
       "        text-align: right;\n",
       "    }\n",
       "</style>\n",
       "<table border=\"1\" class=\"dataframe\">\n",
       "  <thead>\n",
       "    <tr style=\"text-align: right;\">\n",
       "      <th></th>\n",
       "      <th>n_mentions</th>\n",
       "    </tr>\n",
       "  </thead>\n",
       "  <tbody>\n",
       "    <tr>\n",
       "      <th>min</th>\n",
       "      <td>0</td>\n",
       "    </tr>\n",
       "    <tr>\n",
       "      <th>max</th>\n",
       "      <td>6</td>\n",
       "    </tr>\n",
       "    <tr>\n",
       "      <th>sum</th>\n",
       "      <td>2277</td>\n",
       "    </tr>\n",
       "  </tbody>\n",
       "</table>\n",
       "</div>"
      ],
      "text/plain": [
       "     n_mentions\n",
       "min           0\n",
       "max           6\n",
       "sum        2277"
      ]
     },
     "execution_count": 54,
     "metadata": {},
     "output_type": "execute_result"
    }
   ],
   "source": [
    "df.agg({'n_mentions': ['min', 'max', 'sum']})"
   ]
  },
  {
   "cell_type": "markdown",
   "metadata": {},
   "source": [
    "#### Grouping"
   ]
  },
  {
   "cell_type": "code",
   "execution_count": 55,
   "metadata": {},
   "outputs": [],
   "source": [
    "df.groupby?"
   ]
  },
  {
   "cell_type": "code",
   "execution_count": 56,
   "metadata": {},
   "outputs": [],
   "source": [
    "grp_by_day = df.groupby('week_day')"
   ]
  },
  {
   "cell_type": "markdown",
   "metadata": {},
   "source": [
    "The object returned by `gropuby` is a `DataFrameGroupBy` **not** a normal `DataFrame`.\n",
    "\n",
    "However, some methods of the latter work also on the former, e.g. `head` and `tail`"
   ]
  },
  {
   "cell_type": "code",
   "execution_count": 57,
   "metadata": {},
   "outputs": [
    {
     "data": {
      "text/html": [
       "<div>\n",
       "<style scoped>\n",
       "    .dataframe tbody tr th:only-of-type {\n",
       "        vertical-align: middle;\n",
       "    }\n",
       "\n",
       "    .dataframe tbody tr th {\n",
       "        vertical-align: top;\n",
       "    }\n",
       "\n",
       "    .dataframe thead th {\n",
       "        text-align: right;\n",
       "    }\n",
       "</style>\n",
       "<table border=\"1\" class=\"dataframe\">\n",
       "  <thead>\n",
       "    <tr style=\"text-align: right;\">\n",
       "      <th></th>\n",
       "      <th>created_at</th>\n",
       "      <th>text</th>\n",
       "      <th>tweet_link</th>\n",
       "      <th>tweet_mentions</th>\n",
       "      <th>n_mentions</th>\n",
       "      <th>week_day_name</th>\n",
       "      <th>week_day</th>\n",
       "      <th>day_hour</th>\n",
       "    </tr>\n",
       "    <tr>\n",
       "      <th>id</th>\n",
       "      <th></th>\n",
       "      <th></th>\n",
       "      <th></th>\n",
       "      <th></th>\n",
       "      <th></th>\n",
       "      <th></th>\n",
       "      <th></th>\n",
       "      <th></th>\n",
       "    </tr>\n",
       "  </thead>\n",
       "  <tbody>\n",
       "    <tr>\n",
       "      <th>849636868052275200</th>\n",
       "      <td>2017-04-05 14:56:29</td>\n",
       "      <td>b'And so the robots spared humanity ... https://t.co/v7JUJQWfCv'</td>\n",
       "      <td>https://twitter.com/i/web/status/849636868052275200</td>\n",
       "      <td>[]</td>\n",
       "      <td>0</td>\n",
       "      <td>Wednesday</td>\n",
       "      <td>2</td>\n",
       "      <td>14</td>\n",
       "    </tr>\n",
       "    <tr>\n",
       "      <th>848988730585096192</th>\n",
       "      <td>2017-04-03 20:01:01</td>\n",
       "      <td>b\"@ForIn2020 @waltmossberg @mims @defcon_5 Exactly. Tesla is absurdly overvalued if based on the past, but that's irr\\xe2\\x80\\xa6 https://t.co/qQcTqkzgMl\"</td>\n",
       "      <td>https://twitter.com/i/web/status/848988730585096192</td>\n",
       "      <td>[@ForIn2020, @waltmossberg, @mims, @defcon_5]</td>\n",
       "      <td>4</td>\n",
       "      <td>Monday</td>\n",
       "      <td>0</td>\n",
       "      <td>20</td>\n",
       "    </tr>\n",
       "    <tr>\n",
       "      <th>848416049573658624</th>\n",
       "      <td>2017-04-02 06:05:23</td>\n",
       "      <td>b\"@DaveLeeBBC @verge Coal is dying due to nat gas fracking. It's basically dead.\"</td>\n",
       "      <td>https://twitter.com/i/web/status/848416049573658624</td>\n",
       "      <td>[@DaveLeeBBC, @verge]</td>\n",
       "      <td>2</td>\n",
       "      <td>Sunday</td>\n",
       "      <td>6</td>\n",
       "      <td>6</td>\n",
       "    </tr>\n",
       "    <tr>\n",
       "      <th>848244577521647616</th>\n",
       "      <td>2017-04-01 18:44:01</td>\n",
       "      <td>b\"Why did we waste so much time developing silly rockets? Damn you, aliens! So obtuse! You have all this crazy tech, but can't speak English!?\"</td>\n",
       "      <td>https://twitter.com/i/web/status/848244577521647616</td>\n",
       "      <td>[]</td>\n",
       "      <td>0</td>\n",
       "      <td>Saturday</td>\n",
       "      <td>5</td>\n",
       "      <td>18</td>\n",
       "    </tr>\n",
       "    <tr>\n",
       "      <th>847958571895619584</th>\n",
       "      <td>2017-03-31 23:47:32</td>\n",
       "      <td>b'@BadAstronomer We can def bring it back like Dragon. Just a question of how much weight we need to add.'</td>\n",
       "      <td>https://twitter.com/i/web/status/847958571895619584</td>\n",
       "      <td>[@BadAstronomer]</td>\n",
       "      <td>1</td>\n",
       "      <td>Friday</td>\n",
       "      <td>4</td>\n",
       "      <td>23</td>\n",
       "    </tr>\n",
       "    <tr>\n",
       "      <th>847594208219336705</th>\n",
       "      <td>2017-03-30 23:39:41</td>\n",
       "      <td>b'Incredibly proud of the SpaceX team for achieving this milestone in space! Next goal is reflight within 24 hours.'</td>\n",
       "      <td>https://twitter.com/i/web/status/847594208219336705</td>\n",
       "      <td>[]</td>\n",
       "      <td>0</td>\n",
       "      <td>Thursday</td>\n",
       "      <td>3</td>\n",
       "      <td>23</td>\n",
       "    </tr>\n",
       "    <tr>\n",
       "      <th>846772378067648513</th>\n",
       "      <td>2017-03-28 17:14:01</td>\n",
       "      <td>b'@danahull Very few. We have yet to do a China (or Europe) launch of Model 3.'</td>\n",
       "      <td>https://twitter.com/i/web/status/846772378067648513</td>\n",
       "      <td>[@danahull]</td>\n",
       "      <td>1</td>\n",
       "      <td>Tuesday</td>\n",
       "      <td>1</td>\n",
       "      <td>17</td>\n",
       "    </tr>\n",
       "  </tbody>\n",
       "</table>\n",
       "</div>"
      ],
      "text/plain": [
       "                            created_at  \\\n",
       "id                                       \n",
       "849636868052275200 2017-04-05 14:56:29   \n",
       "848988730585096192 2017-04-03 20:01:01   \n",
       "848416049573658624 2017-04-02 06:05:23   \n",
       "848244577521647616 2017-04-01 18:44:01   \n",
       "847958571895619584 2017-03-31 23:47:32   \n",
       "847594208219336705 2017-03-30 23:39:41   \n",
       "846772378067648513 2017-03-28 17:14:01   \n",
       "\n",
       "                                                                                                                                                                          text  \\\n",
       "id                                                                                                                                                                               \n",
       "849636868052275200                                                                                            b'And so the robots spared humanity ... https://t.co/v7JUJQWfCv'   \n",
       "848988730585096192  b\"@ForIn2020 @waltmossberg @mims @defcon_5 Exactly. Tesla is absurdly overvalued if based on the past, but that's irr\\xe2\\x80\\xa6 https://t.co/qQcTqkzgMl\"   \n",
       "848416049573658624                                                                           b\"@DaveLeeBBC @verge Coal is dying due to nat gas fracking. It's basically dead.\"   \n",
       "848244577521647616             b\"Why did we waste so much time developing silly rockets? Damn you, aliens! So obtuse! You have all this crazy tech, but can't speak English!?\"   \n",
       "847958571895619584                                                  b'@BadAstronomer We can def bring it back like Dragon. Just a question of how much weight we need to add.'   \n",
       "847594208219336705                                        b'Incredibly proud of the SpaceX team for achieving this milestone in space! Next goal is reflight within 24 hours.'   \n",
       "846772378067648513                                                                             b'@danahull Very few. We have yet to do a China (or Europe) launch of Model 3.'   \n",
       "\n",
       "                                                             tweet_link  \\\n",
       "id                                                                        \n",
       "849636868052275200  https://twitter.com/i/web/status/849636868052275200   \n",
       "848988730585096192  https://twitter.com/i/web/status/848988730585096192   \n",
       "848416049573658624  https://twitter.com/i/web/status/848416049573658624   \n",
       "848244577521647616  https://twitter.com/i/web/status/848244577521647616   \n",
       "847958571895619584  https://twitter.com/i/web/status/847958571895619584   \n",
       "847594208219336705  https://twitter.com/i/web/status/847594208219336705   \n",
       "846772378067648513  https://twitter.com/i/web/status/846772378067648513   \n",
       "\n",
       "                                                   tweet_mentions  n_mentions  \\\n",
       "id                                                                              \n",
       "849636868052275200                                             []           0   \n",
       "848988730585096192  [@ForIn2020, @waltmossberg, @mims, @defcon_5]           4   \n",
       "848416049573658624                          [@DaveLeeBBC, @verge]           2   \n",
       "848244577521647616                                             []           0   \n",
       "847958571895619584                               [@BadAstronomer]           1   \n",
       "847594208219336705                                             []           0   \n",
       "846772378067648513                                    [@danahull]           1   \n",
       "\n",
       "                   week_day_name  week_day  day_hour  \n",
       "id                                                    \n",
       "849636868052275200     Wednesday         2        14  \n",
       "848988730585096192        Monday         0        20  \n",
       "848416049573658624        Sunday         6         6  \n",
       "848244577521647616      Saturday         5        18  \n",
       "847958571895619584        Friday         4        23  \n",
       "847594208219336705      Thursday         3        23  \n",
       "846772378067648513       Tuesday         1        17  "
      ]
     },
     "execution_count": 57,
     "metadata": {},
     "output_type": "execute_result"
    }
   ],
   "source": [
    "# the head of a DataFrameGroupBy consists of the first\n",
    "# n records for each group (see `help(grp_by_day.head)`)\n",
    "\n",
    "grp_by_day.head(1)"
   ]
  },
  {
   "cell_type": "markdown",
   "metadata": {},
   "source": [
    "`agg` is used to pass an aggregation function to be applied to each group resulting from `groupby`."
   ]
  },
  {
   "cell_type": "code",
   "execution_count": 58,
   "metadata": {},
   "outputs": [
    {
     "data": {
      "text/html": [
       "<div>\n",
       "<style scoped>\n",
       "    .dataframe tbody tr th:only-of-type {\n",
       "        vertical-align: middle;\n",
       "    }\n",
       "\n",
       "    .dataframe tbody tr th {\n",
       "        vertical-align: top;\n",
       "    }\n",
       "\n",
       "    .dataframe thead th {\n",
       "        text-align: right;\n",
       "    }\n",
       "</style>\n",
       "<table border=\"1\" class=\"dataframe\">\n",
       "  <thead>\n",
       "    <tr style=\"text-align: right;\">\n",
       "      <th></th>\n",
       "      <th>created_at</th>\n",
       "      <th>text</th>\n",
       "      <th>tweet_link</th>\n",
       "      <th>tweet_mentions</th>\n",
       "      <th>n_mentions</th>\n",
       "      <th>week_day_name</th>\n",
       "      <th>day_hour</th>\n",
       "    </tr>\n",
       "    <tr>\n",
       "      <th>week_day</th>\n",
       "      <th></th>\n",
       "      <th></th>\n",
       "      <th></th>\n",
       "      <th></th>\n",
       "      <th></th>\n",
       "      <th></th>\n",
       "      <th></th>\n",
       "    </tr>\n",
       "  </thead>\n",
       "  <tbody>\n",
       "    <tr>\n",
       "      <th>0</th>\n",
       "      <td>315</td>\n",
       "      <td>315</td>\n",
       "      <td>315</td>\n",
       "      <td>315</td>\n",
       "      <td>315</td>\n",
       "      <td>315</td>\n",
       "      <td>315</td>\n",
       "    </tr>\n",
       "    <tr>\n",
       "      <th>1</th>\n",
       "      <td>385</td>\n",
       "      <td>385</td>\n",
       "      <td>385</td>\n",
       "      <td>385</td>\n",
       "      <td>385</td>\n",
       "      <td>385</td>\n",
       "      <td>385</td>\n",
       "    </tr>\n",
       "    <tr>\n",
       "      <th>2</th>\n",
       "      <td>380</td>\n",
       "      <td>380</td>\n",
       "      <td>380</td>\n",
       "      <td>380</td>\n",
       "      <td>380</td>\n",
       "      <td>380</td>\n",
       "      <td>380</td>\n",
       "    </tr>\n",
       "    <tr>\n",
       "      <th>3</th>\n",
       "      <td>361</td>\n",
       "      <td>361</td>\n",
       "      <td>361</td>\n",
       "      <td>361</td>\n",
       "      <td>361</td>\n",
       "      <td>361</td>\n",
       "      <td>361</td>\n",
       "    </tr>\n",
       "    <tr>\n",
       "      <th>4</th>\n",
       "      <td>530</td>\n",
       "      <td>530</td>\n",
       "      <td>530</td>\n",
       "      <td>530</td>\n",
       "      <td>530</td>\n",
       "      <td>530</td>\n",
       "      <td>530</td>\n",
       "    </tr>\n",
       "    <tr>\n",
       "      <th>5</th>\n",
       "      <td>426</td>\n",
       "      <td>426</td>\n",
       "      <td>426</td>\n",
       "      <td>426</td>\n",
       "      <td>426</td>\n",
       "      <td>426</td>\n",
       "      <td>426</td>\n",
       "    </tr>\n",
       "    <tr>\n",
       "      <th>6</th>\n",
       "      <td>422</td>\n",
       "      <td>422</td>\n",
       "      <td>422</td>\n",
       "      <td>422</td>\n",
       "      <td>422</td>\n",
       "      <td>422</td>\n",
       "      <td>422</td>\n",
       "    </tr>\n",
       "  </tbody>\n",
       "</table>\n",
       "</div>"
      ],
      "text/plain": [
       "          created_at  text  tweet_link  tweet_mentions  n_mentions  \\\n",
       "week_day                                                             \n",
       "0                315   315         315             315         315   \n",
       "1                385   385         385             385         385   \n",
       "2                380   380         380             380         380   \n",
       "3                361   361         361             361         361   \n",
       "4                530   530         530             530         530   \n",
       "5                426   426         426             426         426   \n",
       "6                422   422         422             422         422   \n",
       "\n",
       "          week_day_name  day_hour  \n",
       "week_day                           \n",
       "0                   315       315  \n",
       "1                   385       385  \n",
       "2                   380       380  \n",
       "3                   361       361  \n",
       "4                   530       530  \n",
       "5                   426       426  \n",
       "6                   422       422  "
      ]
     },
     "execution_count": 58,
     "metadata": {},
     "output_type": "execute_result"
    }
   ],
   "source": [
    "# here we are interested in how many tweets\n",
    "# there are for each group, so we pass `len()`\n",
    "\n",
    "grp_by_day.agg(len)"
   ]
  },
  {
   "cell_type": "code",
   "execution_count": 59,
   "metadata": {},
   "outputs": [
    {
     "data": {
      "text/html": [
       "<div>\n",
       "<style scoped>\n",
       "    .dataframe tbody tr th:only-of-type {\n",
       "        vertical-align: middle;\n",
       "    }\n",
       "\n",
       "    .dataframe tbody tr th {\n",
       "        vertical-align: top;\n",
       "    }\n",
       "\n",
       "    .dataframe thead th {\n",
       "        text-align: right;\n",
       "    }\n",
       "</style>\n",
       "<table border=\"1\" class=\"dataframe\">\n",
       "  <thead>\n",
       "    <tr style=\"text-align: right;\">\n",
       "      <th></th>\n",
       "      <th>tweet_count</th>\n",
       "    </tr>\n",
       "    <tr>\n",
       "      <th>week_day</th>\n",
       "      <th></th>\n",
       "    </tr>\n",
       "  </thead>\n",
       "  <tbody>\n",
       "    <tr>\n",
       "      <th>0</th>\n",
       "      <td>315</td>\n",
       "    </tr>\n",
       "    <tr>\n",
       "      <th>1</th>\n",
       "      <td>385</td>\n",
       "    </tr>\n",
       "    <tr>\n",
       "      <th>2</th>\n",
       "      <td>380</td>\n",
       "    </tr>\n",
       "    <tr>\n",
       "      <th>3</th>\n",
       "      <td>361</td>\n",
       "    </tr>\n",
       "    <tr>\n",
       "      <th>4</th>\n",
       "      <td>530</td>\n",
       "    </tr>\n",
       "    <tr>\n",
       "      <th>5</th>\n",
       "      <td>426</td>\n",
       "    </tr>\n",
       "    <tr>\n",
       "      <th>6</th>\n",
       "      <td>422</td>\n",
       "    </tr>\n",
       "  </tbody>\n",
       "</table>\n",
       "</div>"
      ],
      "text/plain": [
       "          tweet_count\n",
       "week_day             \n",
       "0                 315\n",
       "1                 385\n",
       "2                 380\n",
       "3                 361\n",
       "4                 530\n",
       "5                 426\n",
       "6                 422"
      ]
     },
     "execution_count": 59,
     "metadata": {},
     "output_type": "execute_result"
    }
   ],
   "source": [
    "# however, we are not interested in having the count for all\n",
    "# columns. rather we want to create a new dataframe with renamed\n",
    "# column names\n",
    "\n",
    "grp_by_day.agg({'text': len}).rename({'text': 'tweet_count'}, axis='columns')"
   ]
  },
  {
   "cell_type": "markdown",
   "metadata": {},
   "source": [
    "##### By label (column)"
   ]
  },
  {
   "cell_type": "markdown",
   "metadata": {},
   "source": [
    "Previously we've added a column indicating on which day of the week a given tweet appeared."
   ]
  },
  {
   "cell_type": "code",
   "execution_count": 60,
   "metadata": {},
   "outputs": [],
   "source": [
    "grpby_result_as_series = df.groupby('day_hour')['text'].count()"
   ]
  },
  {
   "cell_type": "code",
   "execution_count": 61,
   "metadata": {},
   "outputs": [
    {
     "data": {
      "text/plain": [
       "day_hour\n",
       "0    144\n",
       "1    183\n",
       "2    119\n",
       "3    104\n",
       "4     98\n",
       "Name: text, dtype: int64"
      ]
     },
     "execution_count": 61,
     "metadata": {},
     "output_type": "execute_result"
    }
   ],
   "source": [
    "grpby_result_as_series.head()"
   ]
  },
  {
   "cell_type": "code",
   "execution_count": 62,
   "metadata": {},
   "outputs": [],
   "source": [
    "grpby_result_as_df = df.groupby('day_hour')[['text']]\\\n",
    "    .count()\\\n",
    "    .rename({'text': 'count'}, axis='columns')"
   ]
  },
  {
   "cell_type": "code",
   "execution_count": 63,
   "metadata": {},
   "outputs": [
    {
     "data": {
      "text/html": [
       "<div>\n",
       "<style scoped>\n",
       "    .dataframe tbody tr th:only-of-type {\n",
       "        vertical-align: middle;\n",
       "    }\n",
       "\n",
       "    .dataframe tbody tr th {\n",
       "        vertical-align: top;\n",
       "    }\n",
       "\n",
       "    .dataframe thead th {\n",
       "        text-align: right;\n",
       "    }\n",
       "</style>\n",
       "<table border=\"1\" class=\"dataframe\">\n",
       "  <thead>\n",
       "    <tr style=\"text-align: right;\">\n",
       "      <th></th>\n",
       "      <th>count</th>\n",
       "    </tr>\n",
       "    <tr>\n",
       "      <th>day_hour</th>\n",
       "      <th></th>\n",
       "    </tr>\n",
       "  </thead>\n",
       "  <tbody>\n",
       "    <tr>\n",
       "      <th>0</th>\n",
       "      <td>144</td>\n",
       "    </tr>\n",
       "    <tr>\n",
       "      <th>1</th>\n",
       "      <td>183</td>\n",
       "    </tr>\n",
       "    <tr>\n",
       "      <th>2</th>\n",
       "      <td>119</td>\n",
       "    </tr>\n",
       "    <tr>\n",
       "      <th>3</th>\n",
       "      <td>104</td>\n",
       "    </tr>\n",
       "    <tr>\n",
       "      <th>4</th>\n",
       "      <td>98</td>\n",
       "    </tr>\n",
       "  </tbody>\n",
       "</table>\n",
       "</div>"
      ],
      "text/plain": [
       "          count\n",
       "day_hour       \n",
       "0           144\n",
       "1           183\n",
       "2           119\n",
       "3           104\n",
       "4            98"
      ]
     },
     "execution_count": 63,
     "metadata": {},
     "output_type": "execute_result"
    }
   ],
   "source": [
    "grpby_result_as_df.head()"
   ]
  },
  {
   "cell_type": "markdown",
   "metadata": {},
   "source": [
    "##### By series or dict"
   ]
  },
  {
   "cell_type": "code",
   "execution_count": 66,
   "metadata": {},
   "outputs": [
    {
     "data": {
      "text/html": [
       "<div>\n",
       "<style scoped>\n",
       "    .dataframe tbody tr th:only-of-type {\n",
       "        vertical-align: middle;\n",
       "    }\n",
       "\n",
       "    .dataframe tbody tr th {\n",
       "        vertical-align: top;\n",
       "    }\n",
       "\n",
       "    .dataframe thead th {\n",
       "        text-align: right;\n",
       "    }\n",
       "</style>\n",
       "<table border=\"1\" class=\"dataframe\">\n",
       "  <thead>\n",
       "    <tr style=\"text-align: right;\">\n",
       "      <th></th>\n",
       "      <th>text</th>\n",
       "    </tr>\n",
       "    <tr>\n",
       "      <th>created_at</th>\n",
       "      <th></th>\n",
       "    </tr>\n",
       "  </thead>\n",
       "  <tbody>\n",
       "    <tr>\n",
       "      <th>1</th>\n",
       "      <td>107</td>\n",
       "    </tr>\n",
       "    <tr>\n",
       "      <th>2</th>\n",
       "      <td>107</td>\n",
       "    </tr>\n",
       "    <tr>\n",
       "      <th>3</th>\n",
       "      <td>114</td>\n",
       "    </tr>\n",
       "    <tr>\n",
       "      <th>4</th>\n",
       "      <td>97</td>\n",
       "    </tr>\n",
       "    <tr>\n",
       "      <th>5</th>\n",
       "      <td>117</td>\n",
       "    </tr>\n",
       "  </tbody>\n",
       "</table>\n",
       "</div>"
      ],
      "text/plain": [
       "            text\n",
       "created_at      \n",
       "1            107\n",
       "2            107\n",
       "3            114\n",
       "4             97\n",
       "5            117"
      ]
     },
     "execution_count": 66,
     "metadata": {},
     "output_type": "execute_result"
    }
   ],
   "source": [
    "# here we pass the groups as a series\n",
    "df.groupby(df.created_at.dt.day).agg({'text':len}).head()"
   ]
  },
  {
   "cell_type": "code",
   "execution_count": 67,
   "metadata": {},
   "outputs": [
    {
     "data": {
      "text/html": [
       "<div>\n",
       "<style scoped>\n",
       "    .dataframe tbody tr th:only-of-type {\n",
       "        vertical-align: middle;\n",
       "    }\n",
       "\n",
       "    .dataframe tbody tr th {\n",
       "        vertical-align: top;\n",
       "    }\n",
       "\n",
       "    .dataframe thead th {\n",
       "        text-align: right;\n",
       "    }\n",
       "</style>\n",
       "<table border=\"1\" class=\"dataframe\">\n",
       "  <thead>\n",
       "    <tr style=\"text-align: right;\">\n",
       "      <th></th>\n",
       "      <th>text</th>\n",
       "    </tr>\n",
       "    <tr>\n",
       "      <th>created_at</th>\n",
       "      <th></th>\n",
       "    </tr>\n",
       "  </thead>\n",
       "  <tbody>\n",
       "    <tr>\n",
       "      <th>1</th>\n",
       "      <td>107</td>\n",
       "    </tr>\n",
       "    <tr>\n",
       "      <th>2</th>\n",
       "      <td>107</td>\n",
       "    </tr>\n",
       "    <tr>\n",
       "      <th>3</th>\n",
       "      <td>114</td>\n",
       "    </tr>\n",
       "    <tr>\n",
       "      <th>4</th>\n",
       "      <td>97</td>\n",
       "    </tr>\n",
       "    <tr>\n",
       "      <th>5</th>\n",
       "      <td>117</td>\n",
       "    </tr>\n",
       "  </tbody>\n",
       "</table>\n",
       "</div>"
      ],
      "text/plain": [
       "            text\n",
       "created_at      \n",
       "1            107\n",
       "2            107\n",
       "3            114\n",
       "4             97\n",
       "5            117"
      ]
     },
     "execution_count": 67,
     "metadata": {},
     "output_type": "execute_result"
    }
   ],
   "source": [
    "# here we pass the groups as a series\n",
    "df.groupby(df.created_at.dt.day)[['text']].count().head()"
   ]
  },
  {
   "cell_type": "code",
   "execution_count": 68,
   "metadata": {},
   "outputs": [
    {
     "data": {
      "text/html": [
       "<div>\n",
       "<style scoped>\n",
       "    .dataframe tbody tr th:only-of-type {\n",
       "        vertical-align: middle;\n",
       "    }\n",
       "\n",
       "    .dataframe tbody tr th {\n",
       "        vertical-align: top;\n",
       "    }\n",
       "\n",
       "    .dataframe thead th {\n",
       "        text-align: right;\n",
       "    }\n",
       "</style>\n",
       "<table border=\"1\" class=\"dataframe\">\n",
       "  <thead>\n",
       "    <tr style=\"text-align: right;\">\n",
       "      <th></th>\n",
       "      <th>text</th>\n",
       "    </tr>\n",
       "    <tr>\n",
       "      <th>created_at</th>\n",
       "      <th></th>\n",
       "    </tr>\n",
       "  </thead>\n",
       "  <tbody>\n",
       "    <tr>\n",
       "      <th>0</th>\n",
       "      <td>144</td>\n",
       "    </tr>\n",
       "    <tr>\n",
       "      <th>1</th>\n",
       "      <td>183</td>\n",
       "    </tr>\n",
       "    <tr>\n",
       "      <th>2</th>\n",
       "      <td>119</td>\n",
       "    </tr>\n",
       "    <tr>\n",
       "      <th>3</th>\n",
       "      <td>104</td>\n",
       "    </tr>\n",
       "    <tr>\n",
       "      <th>4</th>\n",
       "      <td>98</td>\n",
       "    </tr>\n",
       "  </tbody>\n",
       "</table>\n",
       "</div>"
      ],
      "text/plain": [
       "            text\n",
       "created_at      \n",
       "0            144\n",
       "1            183\n",
       "2            119\n",
       "3            104\n",
       "4             98"
      ]
     },
     "execution_count": 68,
     "metadata": {},
     "output_type": "execute_result"
    }
   ],
   "source": [
    "df.groupby(df.created_at.dt.hour)[['text']].count().head()"
   ]
  },
  {
   "cell_type": "markdown",
   "metadata": {},
   "source": [
    "##### By multiple labels (columns)"
   ]
  },
  {
   "cell_type": "code",
   "execution_count": 71,
   "metadata": {},
   "outputs": [],
   "source": [
    "# here we group based on the values of two columns\n",
    "# instead of one\n",
    "\n",
    "x = df.groupby(['week_day_name', 'day_hour'])[['text']].count()"
   ]
  },
  {
   "cell_type": "code",
   "execution_count": 72,
   "metadata": {},
   "outputs": [
    {
     "data": {
      "text/html": [
       "<div>\n",
       "<style scoped>\n",
       "    .dataframe tbody tr th:only-of-type {\n",
       "        vertical-align: middle;\n",
       "    }\n",
       "\n",
       "    .dataframe tbody tr th {\n",
       "        vertical-align: top;\n",
       "    }\n",
       "\n",
       "    .dataframe thead th {\n",
       "        text-align: right;\n",
       "    }\n",
       "</style>\n",
       "<table border=\"1\" class=\"dataframe\">\n",
       "  <thead>\n",
       "    <tr style=\"text-align: right;\">\n",
       "      <th></th>\n",
       "      <th></th>\n",
       "      <th>text</th>\n",
       "    </tr>\n",
       "    <tr>\n",
       "      <th>week_day_name</th>\n",
       "      <th>day_hour</th>\n",
       "      <th></th>\n",
       "    </tr>\n",
       "  </thead>\n",
       "  <tbody>\n",
       "    <tr>\n",
       "      <th rowspan=\"5\" valign=\"top\">Friday</th>\n",
       "      <th>0</th>\n",
       "      <td>28</td>\n",
       "    </tr>\n",
       "    <tr>\n",
       "      <th>1</th>\n",
       "      <td>29</td>\n",
       "    </tr>\n",
       "    <tr>\n",
       "      <th>2</th>\n",
       "      <td>20</td>\n",
       "    </tr>\n",
       "    <tr>\n",
       "      <th>3</th>\n",
       "      <td>20</td>\n",
       "    </tr>\n",
       "    <tr>\n",
       "      <th>4</th>\n",
       "      <td>15</td>\n",
       "    </tr>\n",
       "  </tbody>\n",
       "</table>\n",
       "</div>"
      ],
      "text/plain": [
       "                        text\n",
       "week_day_name day_hour      \n",
       "Friday        0           28\n",
       "              1           29\n",
       "              2           20\n",
       "              3           20\n",
       "              4           15"
      ]
     },
     "execution_count": 72,
     "metadata": {},
     "output_type": "execute_result"
    }
   ],
   "source": [
    "x.head()"
   ]
  },
  {
   "cell_type": "markdown",
   "metadata": {},
   "source": [
    "#### Aggregation methods\n",
    "\n",
    "**Summary**:\n",
    "\n",
    "- `count`: Number of non-NA values\n",
    "- `sum`: Sum of non-NA values\n",
    "- `mean`: Mean of non-NA values\n",
    "- `median`: Arithmetic median of non-NA values\n",
    "- `std`, `var`: standard deviation and variance\n",
    "- `min`, `max`: Minimum and maximum of non-NA values"
   ]
  },
  {
   "cell_type": "markdown",
   "metadata": {},
   "source": [
    "They can be used on a single series:"
   ]
  },
  {
   "cell_type": "code",
   "execution_count": 73,
   "metadata": {},
   "outputs": [
    {
     "data": {
      "text/plain": [
       "6"
      ]
     },
     "execution_count": 73,
     "metadata": {},
     "output_type": "execute_result"
    }
   ],
   "source": [
    "df.n_mentions.max()"
   ]
  },
  {
   "cell_type": "markdown",
   "metadata": {},
   "source": [
    "On the entire dataframe:"
   ]
  },
  {
   "cell_type": "code",
   "execution_count": 75,
   "metadata": {},
   "outputs": [
    {
     "name": "stderr",
     "output_type": "stream",
     "text": [
      "<ipython-input-75-c61f0c8f89b5>:1: FutureWarning: DataFrame.mean and DataFrame.median with numeric_only=None will include datetime64 and datetime64tz columns in a future version.\n",
      "  df.mean()\n"
     ]
    },
    {
     "data": {
      "text/plain": [
       "n_mentions     0.807733\n",
       "week_day       3.196169\n",
       "day_hour      12.782547\n",
       "dtype: float64"
      ]
     },
     "execution_count": 75,
     "metadata": {},
     "output_type": "execute_result"
    }
   ],
   "source": [
    "df.mean()"
   ]
  },
  {
   "cell_type": "markdown",
   "metadata": {},
   "source": [
    "Or also as aggregation functions within a groupby:"
   ]
  },
  {
   "cell_type": "code",
   "execution_count": 76,
   "metadata": {},
   "outputs": [
    {
     "data": {
      "text/html": [
       "<div>\n",
       "<style scoped>\n",
       "    .dataframe tbody tr th:only-of-type {\n",
       "        vertical-align: middle;\n",
       "    }\n",
       "\n",
       "    .dataframe tbody tr th {\n",
       "        vertical-align: top;\n",
       "    }\n",
       "\n",
       "    .dataframe thead tr th {\n",
       "        text-align: left;\n",
       "    }\n",
       "\n",
       "    .dataframe thead tr:last-of-type th {\n",
       "        text-align: right;\n",
       "    }\n",
       "</style>\n",
       "<table border=\"1\" class=\"dataframe\">\n",
       "  <thead>\n",
       "    <tr>\n",
       "      <th></th>\n",
       "      <th colspan=\"6\" halign=\"left\">n_mentions</th>\n",
       "    </tr>\n",
       "    <tr>\n",
       "      <th></th>\n",
       "      <th>count</th>\n",
       "      <th>mean</th>\n",
       "      <th>min</th>\n",
       "      <th>max</th>\n",
       "      <th>std</th>\n",
       "      <th>var</th>\n",
       "    </tr>\n",
       "    <tr>\n",
       "      <th>week_day</th>\n",
       "      <th></th>\n",
       "      <th></th>\n",
       "      <th></th>\n",
       "      <th></th>\n",
       "      <th></th>\n",
       "      <th></th>\n",
       "    </tr>\n",
       "  </thead>\n",
       "  <tbody>\n",
       "    <tr>\n",
       "      <th>0</th>\n",
       "      <td>315</td>\n",
       "      <td>0.812698</td>\n",
       "      <td>0</td>\n",
       "      <td>5</td>\n",
       "      <td>0.964248</td>\n",
       "      <td>0.929775</td>\n",
       "    </tr>\n",
       "    <tr>\n",
       "      <th>1</th>\n",
       "      <td>385</td>\n",
       "      <td>0.729870</td>\n",
       "      <td>0</td>\n",
       "      <td>6</td>\n",
       "      <td>0.874861</td>\n",
       "      <td>0.765381</td>\n",
       "    </tr>\n",
       "    <tr>\n",
       "      <th>2</th>\n",
       "      <td>380</td>\n",
       "      <td>0.786842</td>\n",
       "      <td>0</td>\n",
       "      <td>4</td>\n",
       "      <td>0.768328</td>\n",
       "      <td>0.590328</td>\n",
       "    </tr>\n",
       "    <tr>\n",
       "      <th>3</th>\n",
       "      <td>361</td>\n",
       "      <td>0.781163</td>\n",
       "      <td>0</td>\n",
       "      <td>4</td>\n",
       "      <td>0.832853</td>\n",
       "      <td>0.693644</td>\n",
       "    </tr>\n",
       "    <tr>\n",
       "      <th>4</th>\n",
       "      <td>530</td>\n",
       "      <td>0.879245</td>\n",
       "      <td>0</td>\n",
       "      <td>5</td>\n",
       "      <td>0.901869</td>\n",
       "      <td>0.813368</td>\n",
       "    </tr>\n",
       "    <tr>\n",
       "      <th>5</th>\n",
       "      <td>426</td>\n",
       "      <td>0.727700</td>\n",
       "      <td>0</td>\n",
       "      <td>5</td>\n",
       "      <td>0.800607</td>\n",
       "      <td>0.640972</td>\n",
       "    </tr>\n",
       "    <tr>\n",
       "      <th>6</th>\n",
       "      <td>422</td>\n",
       "      <td>0.907583</td>\n",
       "      <td>0</td>\n",
       "      <td>6</td>\n",
       "      <td>0.851707</td>\n",
       "      <td>0.725406</td>\n",
       "    </tr>\n",
       "  </tbody>\n",
       "</table>\n",
       "</div>"
      ],
      "text/plain": [
       "         n_mentions                                      \n",
       "              count      mean min max       std       var\n",
       "week_day                                                 \n",
       "0               315  0.812698   0   5  0.964248  0.929775\n",
       "1               385  0.729870   0   6  0.874861  0.765381\n",
       "2               380  0.786842   0   4  0.768328  0.590328\n",
       "3               361  0.781163   0   4  0.832853  0.693644\n",
       "4               530  0.879245   0   5  0.901869  0.813368\n",
       "5               426  0.727700   0   5  0.800607  0.640972\n",
       "6               422  0.907583   0   6  0.851707  0.725406"
      ]
     },
     "execution_count": 76,
     "metadata": {},
     "output_type": "execute_result"
    }
   ],
   "source": [
    "df.groupby('week_day').agg(\n",
    "    {\n",
    "        # each key in this dict specifies\n",
    "        # a given column\n",
    "        'n_mentions':[\n",
    "            # the list contains aggregation functions\n",
    "            # to be applied to this column\n",
    "            'count',\n",
    "            'mean',\n",
    "            'min',\n",
    "            'max',\n",
    "            'std',\n",
    "            'var'\n",
    "        ]\n",
    "    }\n",
    ")"
   ]
  },
  {
   "cell_type": "markdown",
   "metadata": {},
   "source": [
    "#### Sorting"
   ]
  },
  {
   "cell_type": "markdown",
   "metadata": {},
   "source": [
    "To sort the values of  a dataframe we use its `sort_values` method:\n",
    "- `by`: specifies the name of the column to be used for sorting\n",
    "- `ascending` (default = `True`): specifies whether the sorting should be *ascending* (A-Z, 0-9) or `descending` (Z-A, 9-0) "
   ]
  },
  {
   "cell_type": "code",
   "execution_count": 77,
   "metadata": {},
   "outputs": [
    {
     "data": {
      "text/html": [
       "<div>\n",
       "<style scoped>\n",
       "    .dataframe tbody tr th:only-of-type {\n",
       "        vertical-align: middle;\n",
       "    }\n",
       "\n",
       "    .dataframe tbody tr th {\n",
       "        vertical-align: top;\n",
       "    }\n",
       "\n",
       "    .dataframe thead th {\n",
       "        text-align: right;\n",
       "    }\n",
       "</style>\n",
       "<table border=\"1\" class=\"dataframe\">\n",
       "  <thead>\n",
       "    <tr style=\"text-align: right;\">\n",
       "      <th></th>\n",
       "      <th>created_at</th>\n",
       "      <th>text</th>\n",
       "      <th>tweet_link</th>\n",
       "      <th>tweet_mentions</th>\n",
       "      <th>n_mentions</th>\n",
       "      <th>week_day_name</th>\n",
       "      <th>week_day</th>\n",
       "      <th>day_hour</th>\n",
       "    </tr>\n",
       "    <tr>\n",
       "      <th>id</th>\n",
       "      <th></th>\n",
       "      <th></th>\n",
       "      <th></th>\n",
       "      <th></th>\n",
       "      <th></th>\n",
       "      <th></th>\n",
       "      <th></th>\n",
       "      <th></th>\n",
       "    </tr>\n",
       "  </thead>\n",
       "  <tbody>\n",
       "    <tr>\n",
       "      <th>15434727182</th>\n",
       "      <td>2010-06-04 18:31:57</td>\n",
       "      <td>b'Please ignore prior tweets, as that was someone pretending to be me :)  This is actually me.'</td>\n",
       "      <td>https://twitter.com/i/web/status/15434727182</td>\n",
       "      <td>[]</td>\n",
       "      <td>0</td>\n",
       "      <td>Friday</td>\n",
       "      <td>4</td>\n",
       "      <td>18</td>\n",
       "    </tr>\n",
       "    <tr>\n",
       "      <th>142179928203460608</th>\n",
       "      <td>2011-12-01 09:55:11</td>\n",
       "      <td>b\"Went to Iceland on Sat to ride bumper cars on ice!  No, not the country, Vlad's rink in Van Nuys. Awesome family fun :) http://t.co/rBQXJ9IT\"</td>\n",
       "      <td>https://twitter.com/i/web/status/142179928203460608</td>\n",
       "      <td>[]</td>\n",
       "      <td>0</td>\n",
       "      <td>Thursday</td>\n",
       "      <td>3</td>\n",
       "      <td>9</td>\n",
       "    </tr>\n",
       "    <tr>\n",
       "      <th>142188458125963264</th>\n",
       "      <td>2011-12-01 10:29:04</td>\n",
       "      <td>b'I made the volume on the Model S http://t.co/wMCnT53M go to 11.  Now I just need to work in a miniature Stonehenge...'</td>\n",
       "      <td>https://twitter.com/i/web/status/142188458125963264</td>\n",
       "      <td>[]</td>\n",
       "      <td>0</td>\n",
       "      <td>Thursday</td>\n",
       "      <td>3</td>\n",
       "      <td>10</td>\n",
       "    </tr>\n",
       "    <tr>\n",
       "      <th>142880871391838208</th>\n",
       "      <td>2011-12-03 08:20:28</td>\n",
       "      <td>b'Great Voltaire quote, arguably better than Twain. Hearing news of his own death, Voltaire replied the reports were true, only premature.'</td>\n",
       "      <td>https://twitter.com/i/web/status/142880871391838208</td>\n",
       "      <td>[]</td>\n",
       "      <td>0</td>\n",
       "      <td>Saturday</td>\n",
       "      <td>5</td>\n",
       "      <td>8</td>\n",
       "    </tr>\n",
       "    <tr>\n",
       "      <th>142881284019060736</th>\n",
       "      <td>2011-12-03 08:22:07</td>\n",
       "      <td>b'That was a total non sequitur btw'</td>\n",
       "      <td>https://twitter.com/i/web/status/142881284019060736</td>\n",
       "      <td>[]</td>\n",
       "      <td>0</td>\n",
       "      <td>Saturday</td>\n",
       "      <td>5</td>\n",
       "      <td>8</td>\n",
       "    </tr>\n",
       "  </tbody>\n",
       "</table>\n",
       "</div>"
      ],
      "text/plain": [
       "                            created_at  \\\n",
       "id                                       \n",
       "15434727182        2010-06-04 18:31:57   \n",
       "142179928203460608 2011-12-01 09:55:11   \n",
       "142188458125963264 2011-12-01 10:29:04   \n",
       "142880871391838208 2011-12-03 08:20:28   \n",
       "142881284019060736 2011-12-03 08:22:07   \n",
       "\n",
       "                                                                                                                                                               text  \\\n",
       "id                                                                                                                                                                    \n",
       "15434727182                                                         b'Please ignore prior tweets, as that was someone pretending to be me :)  This is actually me.'   \n",
       "142179928203460608  b\"Went to Iceland on Sat to ride bumper cars on ice!  No, not the country, Vlad's rink in Van Nuys. Awesome family fun :) http://t.co/rBQXJ9IT\"   \n",
       "142188458125963264                         b'I made the volume on the Model S http://t.co/wMCnT53M go to 11.  Now I just need to work in a miniature Stonehenge...'   \n",
       "142880871391838208      b'Great Voltaire quote, arguably better than Twain. Hearing news of his own death, Voltaire replied the reports were true, only premature.'   \n",
       "142881284019060736                                                                                                             b'That was a total non sequitur btw'   \n",
       "\n",
       "                                                             tweet_link  \\\n",
       "id                                                                        \n",
       "15434727182                https://twitter.com/i/web/status/15434727182   \n",
       "142179928203460608  https://twitter.com/i/web/status/142179928203460608   \n",
       "142188458125963264  https://twitter.com/i/web/status/142188458125963264   \n",
       "142880871391838208  https://twitter.com/i/web/status/142880871391838208   \n",
       "142881284019060736  https://twitter.com/i/web/status/142881284019060736   \n",
       "\n",
       "                   tweet_mentions  n_mentions week_day_name  week_day  \\\n",
       "id                                                                      \n",
       "15434727182                    []           0        Friday         4   \n",
       "142179928203460608             []           0      Thursday         3   \n",
       "142188458125963264             []           0      Thursday         3   \n",
       "142880871391838208             []           0      Saturday         5   \n",
       "142881284019060736             []           0      Saturday         5   \n",
       "\n",
       "                    day_hour  \n",
       "id                            \n",
       "15434727182               18  \n",
       "142179928203460608         9  \n",
       "142188458125963264        10  \n",
       "142880871391838208         8  \n",
       "142881284019060736         8  "
      ]
     },
     "execution_count": 77,
     "metadata": {},
     "output_type": "execute_result"
    }
   ],
   "source": [
    "df.sort_values(by='created_at', ascending=True).head()"
   ]
  },
  {
   "cell_type": "code",
   "execution_count": 78,
   "metadata": {},
   "outputs": [
    {
     "data": {
      "text/html": [
       "<div>\n",
       "<style scoped>\n",
       "    .dataframe tbody tr th:only-of-type {\n",
       "        vertical-align: middle;\n",
       "    }\n",
       "\n",
       "    .dataframe tbody tr th {\n",
       "        vertical-align: top;\n",
       "    }\n",
       "\n",
       "    .dataframe thead th {\n",
       "        text-align: right;\n",
       "    }\n",
       "</style>\n",
       "<table border=\"1\" class=\"dataframe\">\n",
       "  <thead>\n",
       "    <tr style=\"text-align: right;\">\n",
       "      <th></th>\n",
       "      <th>created_at</th>\n",
       "      <th>text</th>\n",
       "      <th>tweet_link</th>\n",
       "      <th>tweet_mentions</th>\n",
       "      <th>n_mentions</th>\n",
       "      <th>week_day_name</th>\n",
       "      <th>week_day</th>\n",
       "      <th>day_hour</th>\n",
       "    </tr>\n",
       "    <tr>\n",
       "      <th>id</th>\n",
       "      <th></th>\n",
       "      <th></th>\n",
       "      <th></th>\n",
       "      <th></th>\n",
       "      <th></th>\n",
       "      <th></th>\n",
       "      <th></th>\n",
       "      <th></th>\n",
       "    </tr>\n",
       "  </thead>\n",
       "  <tbody>\n",
       "    <tr>\n",
       "      <th>752721031735812096</th>\n",
       "      <td>2016-07-12 04:27:33</td>\n",
       "      <td>b\"@kumailn @RealDaveBarton @JuddApatow @SiliconHBO @FredericLambert @MikeJudge can't wait to see the costume\"</td>\n",
       "      <td>https://twitter.com/i/web/status/752721031735812096</td>\n",
       "      <td>[@kumailn, @RealDaveBarton, @JuddApatow, @SiliconHBO, @FredericLambert, @MikeJudge]</td>\n",
       "      <td>6</td>\n",
       "      <td>Tuesday</td>\n",
       "      <td>1</td>\n",
       "      <td>4</td>\n",
       "    </tr>\n",
       "    <tr>\n",
       "      <th>303244501957365760</th>\n",
       "      <td>2013-02-17 20:48:17</td>\n",
       "      <td>b'RT @LawrenceChanin: @TeslaRoadTrip @avantgame @TEDchris @elonmusk @nytimes   \\nThe driving public is the winner thanks to the efforts of  ...'</td>\n",
       "      <td>https://twitter.com/i/web/status/303244501957365760</td>\n",
       "      <td>[@LawrenceChanin, @TeslaRoadTrip, @avantgame, @TEDchris, @elonmusk, @nytimes]</td>\n",
       "      <td>6</td>\n",
       "      <td>Sunday</td>\n",
       "      <td>6</td>\n",
       "      <td>20</td>\n",
       "    </tr>\n",
       "    <tr>\n",
       "      <th>845289977051148289</th>\n",
       "      <td>2017-03-24 15:03:29</td>\n",
       "      <td>b'@faultywarrior @matt_trulli @FredericLambert @TimShelton @JimPengelly Let me just go fetch my magic wand ...'</td>\n",
       "      <td>https://twitter.com/i/web/status/845289977051148289</td>\n",
       "      <td>[@faultywarrior, @matt_trulli, @FredericLambert, @TimShelton, @JimPengelly]</td>\n",
       "      <td>5</td>\n",
       "      <td>Friday</td>\n",
       "      <td>4</td>\n",
       "      <td>15</td>\n",
       "    </tr>\n",
       "    <tr>\n",
       "      <th>672792504895434753</th>\n",
       "      <td>2015-12-04 15:00:07</td>\n",
       "      <td>b\"RT @WSJLife: Supermodel @KarlieKloss blasts off to the future at @elonmusk's @spacex HQ https://t.co/PfE2bWcQwM @wsjmag https://t.co/zc7QM9\\xe2\\x80\\xa6\"</td>\n",
       "      <td>https://twitter.com/i/web/status/672792504895434753</td>\n",
       "      <td>[@WSJLife, @KarlieKloss, @elonmusk, @spacex, @wsjmag]</td>\n",
       "      <td>5</td>\n",
       "      <td>Friday</td>\n",
       "      <td>4</td>\n",
       "      <td>15</td>\n",
       "    </tr>\n",
       "    <tr>\n",
       "      <th>191005784862236672</th>\n",
       "      <td>2012-04-14 03:31:42</td>\n",
       "      <td>b'RT @SethGreen: My love @ClareGrant &amp; @elonmusk partied with the space cheese on our tour of @SpaceX &amp; @TeslaMotors ...which was AWESO\\xe2\\x80\\xa6 h ...'</td>\n",
       "      <td>https://twitter.com/i/web/status/191005784862236672</td>\n",
       "      <td>[@SethGreen, @ClareGrant, @elonmusk, @SpaceX, @TeslaMotors]</td>\n",
       "      <td>5</td>\n",
       "      <td>Saturday</td>\n",
       "      <td>5</td>\n",
       "      <td>3</td>\n",
       "    </tr>\n",
       "  </tbody>\n",
       "</table>\n",
       "</div>"
      ],
      "text/plain": [
       "                            created_at  \\\n",
       "id                                       \n",
       "752721031735812096 2016-07-12 04:27:33   \n",
       "303244501957365760 2013-02-17 20:48:17   \n",
       "845289977051148289 2017-03-24 15:03:29   \n",
       "672792504895434753 2015-12-04 15:00:07   \n",
       "191005784862236672 2012-04-14 03:31:42   \n",
       "\n",
       "                                                                                                                                                                          text  \\\n",
       "id                                                                                                                                                                               \n",
       "752721031735812096                                               b\"@kumailn @RealDaveBarton @JuddApatow @SiliconHBO @FredericLambert @MikeJudge can't wait to see the costume\"   \n",
       "303244501957365760            b'RT @LawrenceChanin: @TeslaRoadTrip @avantgame @TEDchris @elonmusk @nytimes   \\nThe driving public is the winner thanks to the efforts of  ...'   \n",
       "845289977051148289                                             b'@faultywarrior @matt_trulli @FredericLambert @TimShelton @JimPengelly Let me just go fetch my magic wand ...'   \n",
       "672792504895434753  b\"RT @WSJLife: Supermodel @KarlieKloss blasts off to the future at @elonmusk's @spacex HQ https://t.co/PfE2bWcQwM @wsjmag https://t.co/zc7QM9\\xe2\\x80\\xa6\"   \n",
       "191005784862236672  b'RT @SethGreen: My love @ClareGrant & @elonmusk partied with the space cheese on our tour of @SpaceX & @TeslaMotors ...which was AWESO\\xe2\\x80\\xa6 h ...'   \n",
       "\n",
       "                                                             tweet_link  \\\n",
       "id                                                                        \n",
       "752721031735812096  https://twitter.com/i/web/status/752721031735812096   \n",
       "303244501957365760  https://twitter.com/i/web/status/303244501957365760   \n",
       "845289977051148289  https://twitter.com/i/web/status/845289977051148289   \n",
       "672792504895434753  https://twitter.com/i/web/status/672792504895434753   \n",
       "191005784862236672  https://twitter.com/i/web/status/191005784862236672   \n",
       "\n",
       "                                                                                         tweet_mentions  \\\n",
       "id                                                                                                        \n",
       "752721031735812096  [@kumailn, @RealDaveBarton, @JuddApatow, @SiliconHBO, @FredericLambert, @MikeJudge]   \n",
       "303244501957365760        [@LawrenceChanin, @TeslaRoadTrip, @avantgame, @TEDchris, @elonmusk, @nytimes]   \n",
       "845289977051148289          [@faultywarrior, @matt_trulli, @FredericLambert, @TimShelton, @JimPengelly]   \n",
       "672792504895434753                                [@WSJLife, @KarlieKloss, @elonmusk, @spacex, @wsjmag]   \n",
       "191005784862236672                          [@SethGreen, @ClareGrant, @elonmusk, @SpaceX, @TeslaMotors]   \n",
       "\n",
       "                    n_mentions week_day_name  week_day  day_hour  \n",
       "id                                                                \n",
       "752721031735812096           6       Tuesday         1         4  \n",
       "303244501957365760           6        Sunday         6        20  \n",
       "845289977051148289           5        Friday         4        15  \n",
       "672792504895434753           5        Friday         4        15  \n",
       "191005784862236672           5      Saturday         5         3  "
      ]
     },
     "execution_count": 78,
     "metadata": {},
     "output_type": "execute_result"
    }
   ],
   "source": [
    "df.sort_values(by='n_mentions', ascending=False).head()"
   ]
  },
  {
   "cell_type": "markdown",
   "metadata": {},
   "source": [
    "## A first exploration"
   ]
  },
  {
   "cell_type": "markdown",
   "metadata": {},
   "source": [
    "### `describe()`"
   ]
  },
  {
   "cell_type": "code",
   "execution_count": 114,
   "metadata": {},
   "outputs": [
    {
     "data": {
      "text/html": [
       "<div>\n",
       "<style scoped>\n",
       "    .dataframe tbody tr th:only-of-type {\n",
       "        vertical-align: middle;\n",
       "    }\n",
       "\n",
       "    .dataframe tbody tr th {\n",
       "        vertical-align: top;\n",
       "    }\n",
       "\n",
       "    .dataframe thead th {\n",
       "        text-align: right;\n",
       "    }\n",
       "</style>\n",
       "<table border=\"1\" class=\"dataframe\">\n",
       "  <thead>\n",
       "    <tr style=\"text-align: right;\">\n",
       "      <th></th>\n",
       "      <th>n_mentions</th>\n",
       "      <th>week_day</th>\n",
       "      <th>day_hour</th>\n",
       "      <th>year</th>\n",
       "    </tr>\n",
       "  </thead>\n",
       "  <tbody>\n",
       "    <tr>\n",
       "      <th>count</th>\n",
       "      <td>2819.000000</td>\n",
       "      <td>2819.000000</td>\n",
       "      <td>2819.000000</td>\n",
       "      <td>2819.000000</td>\n",
       "    </tr>\n",
       "    <tr>\n",
       "      <th>mean</th>\n",
       "      <td>0.807733</td>\n",
       "      <td>3.196169</td>\n",
       "      <td>12.782547</td>\n",
       "      <td>2014.777226</td>\n",
       "    </tr>\n",
       "    <tr>\n",
       "      <th>std</th>\n",
       "      <td>0.859091</td>\n",
       "      <td>1.946637</td>\n",
       "      <td>7.611198</td>\n",
       "      <td>1.687017</td>\n",
       "    </tr>\n",
       "    <tr>\n",
       "      <th>min</th>\n",
       "      <td>0.000000</td>\n",
       "      <td>0.000000</td>\n",
       "      <td>0.000000</td>\n",
       "      <td>2010.000000</td>\n",
       "    </tr>\n",
       "    <tr>\n",
       "      <th>25%</th>\n",
       "      <td>0.000000</td>\n",
       "      <td>2.000000</td>\n",
       "      <td>5.000000</td>\n",
       "      <td>2013.000000</td>\n",
       "    </tr>\n",
       "    <tr>\n",
       "      <th>50%</th>\n",
       "      <td>1.000000</td>\n",
       "      <td>3.000000</td>\n",
       "      <td>15.000000</td>\n",
       "      <td>2015.000000</td>\n",
       "    </tr>\n",
       "    <tr>\n",
       "      <th>75%</th>\n",
       "      <td>1.000000</td>\n",
       "      <td>5.000000</td>\n",
       "      <td>19.000000</td>\n",
       "      <td>2016.000000</td>\n",
       "    </tr>\n",
       "    <tr>\n",
       "      <th>max</th>\n",
       "      <td>6.000000</td>\n",
       "      <td>6.000000</td>\n",
       "      <td>23.000000</td>\n",
       "      <td>2017.000000</td>\n",
       "    </tr>\n",
       "  </tbody>\n",
       "</table>\n",
       "</div>"
      ],
      "text/plain": [
       "        n_mentions     week_day     day_hour         year\n",
       "count  2819.000000  2819.000000  2819.000000  2819.000000\n",
       "mean      0.807733     3.196169    12.782547  2014.777226\n",
       "std       0.859091     1.946637     7.611198     1.687017\n",
       "min       0.000000     0.000000     0.000000  2010.000000\n",
       "25%       0.000000     2.000000     5.000000  2013.000000\n",
       "50%       1.000000     3.000000    15.000000  2015.000000\n",
       "75%       1.000000     5.000000    19.000000  2016.000000\n",
       "max       6.000000     6.000000    23.000000  2017.000000"
      ]
     },
     "execution_count": 114,
     "metadata": {},
     "output_type": "execute_result"
    }
   ],
   "source": [
    "# the default behavior is to include only\n",
    "# columns with numerical values\n",
    "\n",
    "df.describe()"
   ]
  },
  {
   "cell_type": "code",
   "execution_count": 115,
   "metadata": {},
   "outputs": [
    {
     "data": {
      "text/html": [
       "<div>\n",
       "<style scoped>\n",
       "    .dataframe tbody tr th:only-of-type {\n",
       "        vertical-align: middle;\n",
       "    }\n",
       "\n",
       "    .dataframe tbody tr th {\n",
       "        vertical-align: top;\n",
       "    }\n",
       "\n",
       "    .dataframe thead th {\n",
       "        text-align: right;\n",
       "    }\n",
       "</style>\n",
       "<table border=\"1\" class=\"dataframe\">\n",
       "  <thead>\n",
       "    <tr style=\"text-align: right;\">\n",
       "      <th></th>\n",
       "      <th>created_at</th>\n",
       "      <th>text</th>\n",
       "      <th>tweet_link</th>\n",
       "      <th>tweet_mentions</th>\n",
       "      <th>n_mentions</th>\n",
       "      <th>week_day_name</th>\n",
       "      <th>week_day</th>\n",
       "      <th>day_hour</th>\n",
       "      <th>year</th>\n",
       "    </tr>\n",
       "  </thead>\n",
       "  <tbody>\n",
       "    <tr>\n",
       "      <th>count</th>\n",
       "      <td>2819</td>\n",
       "      <td>2819</td>\n",
       "      <td>2819</td>\n",
       "      <td>2819</td>\n",
       "      <td>2819.000000</td>\n",
       "      <td>2819</td>\n",
       "      <td>2819.000000</td>\n",
       "      <td>2819.000000</td>\n",
       "      <td>2819.000000</td>\n",
       "    </tr>\n",
       "    <tr>\n",
       "      <th>unique</th>\n",
       "      <td>NaN</td>\n",
       "      <td>2819</td>\n",
       "      <td>2819</td>\n",
       "      <td>1181</td>\n",
       "      <td>NaN</td>\n",
       "      <td>7</td>\n",
       "      <td>NaN</td>\n",
       "      <td>NaN</td>\n",
       "      <td>NaN</td>\n",
       "    </tr>\n",
       "    <tr>\n",
       "      <th>top</th>\n",
       "      <td>NaN</td>\n",
       "      <td>b'Scientists: Earth Endangered by New Strain of Fact-Resistant Humans https://t.co/ihmrY43rHa via @BorowitzReport'</td>\n",
       "      <td>https://twitter.com/i/web/status/318122230758391808</td>\n",
       "      <td>[]</td>\n",
       "      <td>NaN</td>\n",
       "      <td>Friday</td>\n",
       "      <td>NaN</td>\n",
       "      <td>NaN</td>\n",
       "      <td>NaN</td>\n",
       "    </tr>\n",
       "    <tr>\n",
       "      <th>freq</th>\n",
       "      <td>NaN</td>\n",
       "      <td>1</td>\n",
       "      <td>1</td>\n",
       "      <td>1145</td>\n",
       "      <td>NaN</td>\n",
       "      <td>530</td>\n",
       "      <td>NaN</td>\n",
       "      <td>NaN</td>\n",
       "      <td>NaN</td>\n",
       "    </tr>\n",
       "    <tr>\n",
       "      <th>mean</th>\n",
       "      <td>2015-03-24 20:24:24.578928896</td>\n",
       "      <td>NaN</td>\n",
       "      <td>NaN</td>\n",
       "      <td>NaN</td>\n",
       "      <td>0.807733</td>\n",
       "      <td>NaN</td>\n",
       "      <td>3.196169</td>\n",
       "      <td>12.782547</td>\n",
       "      <td>2014.777226</td>\n",
       "    </tr>\n",
       "    <tr>\n",
       "      <th>min</th>\n",
       "      <td>2010-06-04 18:31:57</td>\n",
       "      <td>NaN</td>\n",
       "      <td>NaN</td>\n",
       "      <td>NaN</td>\n",
       "      <td>0.000000</td>\n",
       "      <td>NaN</td>\n",
       "      <td>0.000000</td>\n",
       "      <td>0.000000</td>\n",
       "      <td>2010.000000</td>\n",
       "    </tr>\n",
       "    <tr>\n",
       "      <th>25%</th>\n",
       "      <td>2013-06-28 18:27:19</td>\n",
       "      <td>NaN</td>\n",
       "      <td>NaN</td>\n",
       "      <td>NaN</td>\n",
       "      <td>0.000000</td>\n",
       "      <td>NaN</td>\n",
       "      <td>2.000000</td>\n",
       "      <td>5.000000</td>\n",
       "      <td>2013.000000</td>\n",
       "    </tr>\n",
       "    <tr>\n",
       "      <th>50%</th>\n",
       "      <td>2015-10-21 23:14:33</td>\n",
       "      <td>NaN</td>\n",
       "      <td>NaN</td>\n",
       "      <td>NaN</td>\n",
       "      <td>1.000000</td>\n",
       "      <td>NaN</td>\n",
       "      <td>3.000000</td>\n",
       "      <td>15.000000</td>\n",
       "      <td>2015.000000</td>\n",
       "    </tr>\n",
       "    <tr>\n",
       "      <th>75%</th>\n",
       "      <td>2016-08-30 04:08:30</td>\n",
       "      <td>NaN</td>\n",
       "      <td>NaN</td>\n",
       "      <td>NaN</td>\n",
       "      <td>1.000000</td>\n",
       "      <td>NaN</td>\n",
       "      <td>5.000000</td>\n",
       "      <td>19.000000</td>\n",
       "      <td>2016.000000</td>\n",
       "    </tr>\n",
       "    <tr>\n",
       "      <th>max</th>\n",
       "      <td>2017-04-05 14:56:29</td>\n",
       "      <td>NaN</td>\n",
       "      <td>NaN</td>\n",
       "      <td>NaN</td>\n",
       "      <td>6.000000</td>\n",
       "      <td>NaN</td>\n",
       "      <td>6.000000</td>\n",
       "      <td>23.000000</td>\n",
       "      <td>2017.000000</td>\n",
       "    </tr>\n",
       "    <tr>\n",
       "      <th>std</th>\n",
       "      <td>NaN</td>\n",
       "      <td>NaN</td>\n",
       "      <td>NaN</td>\n",
       "      <td>NaN</td>\n",
       "      <td>0.859091</td>\n",
       "      <td>NaN</td>\n",
       "      <td>1.946637</td>\n",
       "      <td>7.611198</td>\n",
       "      <td>1.687017</td>\n",
       "    </tr>\n",
       "  </tbody>\n",
       "</table>\n",
       "</div>"
      ],
      "text/plain": [
       "                           created_at  \\\n",
       "count                            2819   \n",
       "unique                            NaN   \n",
       "top                               NaN   \n",
       "freq                              NaN   \n",
       "mean    2015-03-24 20:24:24.578928896   \n",
       "min               2010-06-04 18:31:57   \n",
       "25%               2013-06-28 18:27:19   \n",
       "50%               2015-10-21 23:14:33   \n",
       "75%               2016-08-30 04:08:30   \n",
       "max               2017-04-05 14:56:29   \n",
       "std                               NaN   \n",
       "\n",
       "                                                                                                                      text  \\\n",
       "count                                                                                                                 2819   \n",
       "unique                                                                                                                2819   \n",
       "top     b'Scientists: Earth Endangered by New Strain of Fact-Resistant Humans https://t.co/ihmrY43rHa via @BorowitzReport'   \n",
       "freq                                                                                                                     1   \n",
       "mean                                                                                                                   NaN   \n",
       "min                                                                                                                    NaN   \n",
       "25%                                                                                                                    NaN   \n",
       "50%                                                                                                                    NaN   \n",
       "75%                                                                                                                    NaN   \n",
       "max                                                                                                                    NaN   \n",
       "std                                                                                                                    NaN   \n",
       "\n",
       "                                                 tweet_link tweet_mentions  \\\n",
       "count                                                  2819           2819   \n",
       "unique                                                 2819           1181   \n",
       "top     https://twitter.com/i/web/status/318122230758391808             []   \n",
       "freq                                                      1           1145   \n",
       "mean                                                    NaN            NaN   \n",
       "min                                                     NaN            NaN   \n",
       "25%                                                     NaN            NaN   \n",
       "50%                                                     NaN            NaN   \n",
       "75%                                                     NaN            NaN   \n",
       "max                                                     NaN            NaN   \n",
       "std                                                     NaN            NaN   \n",
       "\n",
       "         n_mentions week_day_name     week_day     day_hour         year  \n",
       "count   2819.000000          2819  2819.000000  2819.000000  2819.000000  \n",
       "unique          NaN             7          NaN          NaN          NaN  \n",
       "top             NaN        Friday          NaN          NaN          NaN  \n",
       "freq            NaN           530          NaN          NaN          NaN  \n",
       "mean       0.807733           NaN     3.196169    12.782547  2014.777226  \n",
       "min        0.000000           NaN     0.000000     0.000000  2010.000000  \n",
       "25%        0.000000           NaN     2.000000     5.000000  2013.000000  \n",
       "50%        1.000000           NaN     3.000000    15.000000  2015.000000  \n",
       "75%        1.000000           NaN     5.000000    19.000000  2016.000000  \n",
       "max        6.000000           NaN     6.000000    23.000000  2017.000000  \n",
       "std        0.859091           NaN     1.946637     7.611198     1.687017  "
      ]
     },
     "execution_count": 115,
     "metadata": {},
     "output_type": "execute_result"
    }
   ],
   "source": [
    "# in this case fails as pandas does not \n",
    "# now how to handle a column with values of type list (fair enough)\n",
    "\n",
    "df.describe(include='all', datetime_is_numeric=True)"
   ]
  },
  {
   "cell_type": "code",
   "execution_count": 116,
   "metadata": {},
   "outputs": [
    {
     "data": {
      "text/html": [
       "<div>\n",
       "<style scoped>\n",
       "    .dataframe tbody tr th:only-of-type {\n",
       "        vertical-align: middle;\n",
       "    }\n",
       "\n",
       "    .dataframe tbody tr th {\n",
       "        vertical-align: top;\n",
       "    }\n",
       "\n",
       "    .dataframe thead th {\n",
       "        text-align: right;\n",
       "    }\n",
       "</style>\n",
       "<table border=\"1\" class=\"dataframe\">\n",
       "  <thead>\n",
       "    <tr style=\"text-align: right;\">\n",
       "      <th></th>\n",
       "      <th>created_at</th>\n",
       "      <th>n_mentions</th>\n",
       "      <th>week_day_name</th>\n",
       "      <th>week_day</th>\n",
       "      <th>day_hour</th>\n",
       "      <th>year</th>\n",
       "    </tr>\n",
       "  </thead>\n",
       "  <tbody>\n",
       "    <tr>\n",
       "      <th>count</th>\n",
       "      <td>2819</td>\n",
       "      <td>2819.000000</td>\n",
       "      <td>2819</td>\n",
       "      <td>2819.000000</td>\n",
       "      <td>2819.000000</td>\n",
       "      <td>2819.000000</td>\n",
       "    </tr>\n",
       "    <tr>\n",
       "      <th>unique</th>\n",
       "      <td>NaN</td>\n",
       "      <td>NaN</td>\n",
       "      <td>7</td>\n",
       "      <td>NaN</td>\n",
       "      <td>NaN</td>\n",
       "      <td>NaN</td>\n",
       "    </tr>\n",
       "    <tr>\n",
       "      <th>top</th>\n",
       "      <td>NaN</td>\n",
       "      <td>NaN</td>\n",
       "      <td>Friday</td>\n",
       "      <td>NaN</td>\n",
       "      <td>NaN</td>\n",
       "      <td>NaN</td>\n",
       "    </tr>\n",
       "    <tr>\n",
       "      <th>freq</th>\n",
       "      <td>NaN</td>\n",
       "      <td>NaN</td>\n",
       "      <td>530</td>\n",
       "      <td>NaN</td>\n",
       "      <td>NaN</td>\n",
       "      <td>NaN</td>\n",
       "    </tr>\n",
       "    <tr>\n",
       "      <th>mean</th>\n",
       "      <td>2015-03-24 20:24:24.578928896</td>\n",
       "      <td>0.807733</td>\n",
       "      <td>NaN</td>\n",
       "      <td>3.196169</td>\n",
       "      <td>12.782547</td>\n",
       "      <td>2014.777226</td>\n",
       "    </tr>\n",
       "    <tr>\n",
       "      <th>min</th>\n",
       "      <td>2010-06-04 18:31:57</td>\n",
       "      <td>0.000000</td>\n",
       "      <td>NaN</td>\n",
       "      <td>0.000000</td>\n",
       "      <td>0.000000</td>\n",
       "      <td>2010.000000</td>\n",
       "    </tr>\n",
       "    <tr>\n",
       "      <th>25%</th>\n",
       "      <td>2013-06-28 18:27:19</td>\n",
       "      <td>0.000000</td>\n",
       "      <td>NaN</td>\n",
       "      <td>2.000000</td>\n",
       "      <td>5.000000</td>\n",
       "      <td>2013.000000</td>\n",
       "    </tr>\n",
       "    <tr>\n",
       "      <th>50%</th>\n",
       "      <td>2015-10-21 23:14:33</td>\n",
       "      <td>1.000000</td>\n",
       "      <td>NaN</td>\n",
       "      <td>3.000000</td>\n",
       "      <td>15.000000</td>\n",
       "      <td>2015.000000</td>\n",
       "    </tr>\n",
       "    <tr>\n",
       "      <th>75%</th>\n",
       "      <td>2016-08-30 04:08:30</td>\n",
       "      <td>1.000000</td>\n",
       "      <td>NaN</td>\n",
       "      <td>5.000000</td>\n",
       "      <td>19.000000</td>\n",
       "      <td>2016.000000</td>\n",
       "    </tr>\n",
       "    <tr>\n",
       "      <th>max</th>\n",
       "      <td>2017-04-05 14:56:29</td>\n",
       "      <td>6.000000</td>\n",
       "      <td>NaN</td>\n",
       "      <td>6.000000</td>\n",
       "      <td>23.000000</td>\n",
       "      <td>2017.000000</td>\n",
       "    </tr>\n",
       "    <tr>\n",
       "      <th>std</th>\n",
       "      <td>NaN</td>\n",
       "      <td>0.859091</td>\n",
       "      <td>NaN</td>\n",
       "      <td>1.946637</td>\n",
       "      <td>7.611198</td>\n",
       "      <td>1.687017</td>\n",
       "    </tr>\n",
       "  </tbody>\n",
       "</table>\n",
       "</div>"
      ],
      "text/plain": [
       "                           created_at   n_mentions week_day_name     week_day  \\\n",
       "count                            2819  2819.000000          2819  2819.000000   \n",
       "unique                            NaN          NaN             7          NaN   \n",
       "top                               NaN          NaN        Friday          NaN   \n",
       "freq                              NaN          NaN           530          NaN   \n",
       "mean    2015-03-24 20:24:24.578928896     0.807733           NaN     3.196169   \n",
       "min               2010-06-04 18:31:57     0.000000           NaN     0.000000   \n",
       "25%               2013-06-28 18:27:19     0.000000           NaN     2.000000   \n",
       "50%               2015-10-21 23:14:33     1.000000           NaN     3.000000   \n",
       "75%               2016-08-30 04:08:30     1.000000           NaN     5.000000   \n",
       "max               2017-04-05 14:56:29     6.000000           NaN     6.000000   \n",
       "std                               NaN     0.859091           NaN     1.946637   \n",
       "\n",
       "           day_hour         year  \n",
       "count   2819.000000  2819.000000  \n",
       "unique          NaN          NaN  \n",
       "top             NaN          NaN  \n",
       "freq            NaN          NaN  \n",
       "mean      12.782547  2014.777226  \n",
       "min        0.000000  2010.000000  \n",
       "25%        5.000000  2013.000000  \n",
       "50%       15.000000  2015.000000  \n",
       "75%       19.000000  2016.000000  \n",
       "max       23.000000  2017.000000  \n",
       "std        7.611198     1.687017  "
      ]
     },
     "execution_count": 116,
     "metadata": {},
     "output_type": "execute_result"
    }
   ],
   "source": [
    "# that's a workaround to include all other columns\n",
    "\n",
    "df.describe(exclude=[list], datetime_is_numeric=True)"
   ]
  },
  {
   "cell_type": "code",
   "execution_count": 117,
   "metadata": {},
   "outputs": [
    {
     "data": {
      "text/plain": [
       "count                             2819\n",
       "mean     2015-03-24 20:24:24.578928896\n",
       "min                2010-06-04 18:31:57\n",
       "25%                2013-06-28 18:27:19\n",
       "50%                2015-10-21 23:14:33\n",
       "75%                2016-08-30 04:08:30\n",
       "max                2017-04-05 14:56:29\n",
       "Name: created_at, dtype: object"
      ]
     },
     "execution_count": 117,
     "metadata": {},
     "output_type": "execute_result"
    }
   ],
   "source": [
    "df.created_at.describe(datetime_is_numeric=True)"
   ]
  },
  {
   "cell_type": "code",
   "execution_count": 118,
   "metadata": {},
   "outputs": [],
   "source": [
    "df['week_day_name'] = df['week_day_name'].astype('category')"
   ]
  },
  {
   "cell_type": "code",
   "execution_count": 119,
   "metadata": {},
   "outputs": [
    {
     "data": {
      "text/html": [
       "<div>\n",
       "<style scoped>\n",
       "    .dataframe tbody tr th:only-of-type {\n",
       "        vertical-align: middle;\n",
       "    }\n",
       "\n",
       "    .dataframe tbody tr th {\n",
       "        vertical-align: top;\n",
       "    }\n",
       "\n",
       "    .dataframe thead th {\n",
       "        text-align: right;\n",
       "    }\n",
       "</style>\n",
       "<table border=\"1\" class=\"dataframe\">\n",
       "  <thead>\n",
       "    <tr style=\"text-align: right;\">\n",
       "      <th></th>\n",
       "      <th>created_at</th>\n",
       "      <th>n_mentions</th>\n",
       "      <th>week_day_name</th>\n",
       "      <th>week_day</th>\n",
       "      <th>day_hour</th>\n",
       "      <th>year</th>\n",
       "    </tr>\n",
       "  </thead>\n",
       "  <tbody>\n",
       "    <tr>\n",
       "      <th>count</th>\n",
       "      <td>2819</td>\n",
       "      <td>2819.000000</td>\n",
       "      <td>2819</td>\n",
       "      <td>2819.000000</td>\n",
       "      <td>2819.000000</td>\n",
       "      <td>2819.000000</td>\n",
       "    </tr>\n",
       "    <tr>\n",
       "      <th>unique</th>\n",
       "      <td>NaN</td>\n",
       "      <td>NaN</td>\n",
       "      <td>7</td>\n",
       "      <td>NaN</td>\n",
       "      <td>NaN</td>\n",
       "      <td>NaN</td>\n",
       "    </tr>\n",
       "    <tr>\n",
       "      <th>top</th>\n",
       "      <td>NaN</td>\n",
       "      <td>NaN</td>\n",
       "      <td>Friday</td>\n",
       "      <td>NaN</td>\n",
       "      <td>NaN</td>\n",
       "      <td>NaN</td>\n",
       "    </tr>\n",
       "    <tr>\n",
       "      <th>freq</th>\n",
       "      <td>NaN</td>\n",
       "      <td>NaN</td>\n",
       "      <td>530</td>\n",
       "      <td>NaN</td>\n",
       "      <td>NaN</td>\n",
       "      <td>NaN</td>\n",
       "    </tr>\n",
       "    <tr>\n",
       "      <th>mean</th>\n",
       "      <td>2015-03-24 20:24:24.578928896</td>\n",
       "      <td>0.807733</td>\n",
       "      <td>NaN</td>\n",
       "      <td>3.196169</td>\n",
       "      <td>12.782547</td>\n",
       "      <td>2014.777226</td>\n",
       "    </tr>\n",
       "    <tr>\n",
       "      <th>min</th>\n",
       "      <td>2010-06-04 18:31:57</td>\n",
       "      <td>0.000000</td>\n",
       "      <td>NaN</td>\n",
       "      <td>0.000000</td>\n",
       "      <td>0.000000</td>\n",
       "      <td>2010.000000</td>\n",
       "    </tr>\n",
       "    <tr>\n",
       "      <th>25%</th>\n",
       "      <td>2013-06-28 18:27:19</td>\n",
       "      <td>0.000000</td>\n",
       "      <td>NaN</td>\n",
       "      <td>2.000000</td>\n",
       "      <td>5.000000</td>\n",
       "      <td>2013.000000</td>\n",
       "    </tr>\n",
       "    <tr>\n",
       "      <th>50%</th>\n",
       "      <td>2015-10-21 23:14:33</td>\n",
       "      <td>1.000000</td>\n",
       "      <td>NaN</td>\n",
       "      <td>3.000000</td>\n",
       "      <td>15.000000</td>\n",
       "      <td>2015.000000</td>\n",
       "    </tr>\n",
       "    <tr>\n",
       "      <th>75%</th>\n",
       "      <td>2016-08-30 04:08:30</td>\n",
       "      <td>1.000000</td>\n",
       "      <td>NaN</td>\n",
       "      <td>5.000000</td>\n",
       "      <td>19.000000</td>\n",
       "      <td>2016.000000</td>\n",
       "    </tr>\n",
       "    <tr>\n",
       "      <th>max</th>\n",
       "      <td>2017-04-05 14:56:29</td>\n",
       "      <td>6.000000</td>\n",
       "      <td>NaN</td>\n",
       "      <td>6.000000</td>\n",
       "      <td>23.000000</td>\n",
       "      <td>2017.000000</td>\n",
       "    </tr>\n",
       "    <tr>\n",
       "      <th>std</th>\n",
       "      <td>NaN</td>\n",
       "      <td>0.859091</td>\n",
       "      <td>NaN</td>\n",
       "      <td>1.946637</td>\n",
       "      <td>7.611198</td>\n",
       "      <td>1.687017</td>\n",
       "    </tr>\n",
       "  </tbody>\n",
       "</table>\n",
       "</div>"
      ],
      "text/plain": [
       "                           created_at   n_mentions week_day_name     week_day  \\\n",
       "count                            2819  2819.000000          2819  2819.000000   \n",
       "unique                            NaN          NaN             7          NaN   \n",
       "top                               NaN          NaN        Friday          NaN   \n",
       "freq                              NaN          NaN           530          NaN   \n",
       "mean    2015-03-24 20:24:24.578928896     0.807733           NaN     3.196169   \n",
       "min               2010-06-04 18:31:57     0.000000           NaN     0.000000   \n",
       "25%               2013-06-28 18:27:19     0.000000           NaN     2.000000   \n",
       "50%               2015-10-21 23:14:33     1.000000           NaN     3.000000   \n",
       "75%               2016-08-30 04:08:30     1.000000           NaN     5.000000   \n",
       "max               2017-04-05 14:56:29     6.000000           NaN     6.000000   \n",
       "std                               NaN     0.859091           NaN     1.946637   \n",
       "\n",
       "           day_hour         year  \n",
       "count   2819.000000  2819.000000  \n",
       "unique          NaN          NaN  \n",
       "top             NaN          NaN  \n",
       "freq            NaN          NaN  \n",
       "mean      12.782547  2014.777226  \n",
       "min        0.000000  2010.000000  \n",
       "25%        5.000000  2013.000000  \n",
       "50%       15.000000  2015.000000  \n",
       "75%       19.000000  2016.000000  \n",
       "max       23.000000  2017.000000  \n",
       "std        7.611198     1.687017  "
      ]
     },
     "execution_count": 119,
     "metadata": {},
     "output_type": "execute_result"
    }
   ],
   "source": [
    "df.describe(exclude=['object'], datetime_is_numeric=True)"
   ]
  },
  {
   "cell_type": "markdown",
   "metadata": {},
   "source": [
    "### Plotting"
   ]
  },
  {
   "cell_type": "code",
   "execution_count": 120,
   "metadata": {},
   "outputs": [],
   "source": [
    "%matplotlib inline\n",
    "\n",
    "import matplotlib.pyplot as plt"
   ]
  },
  {
   "cell_type": "markdown",
   "metadata": {},
   "source": [
    "#### Histograms\n",
    "\n",
    "They are useful to see the distribution of a certain variable in your dataset."
   ]
  },
  {
   "cell_type": "code",
   "execution_count": 90,
   "metadata": {},
   "outputs": [
    {
     "data": {
      "text/html": [
       "<div>\n",
       "<style scoped>\n",
       "    .dataframe tbody tr th:only-of-type {\n",
       "        vertical-align: middle;\n",
       "    }\n",
       "\n",
       "    .dataframe tbody tr th {\n",
       "        vertical-align: top;\n",
       "    }\n",
       "\n",
       "    .dataframe thead th {\n",
       "        text-align: right;\n",
       "    }\n",
       "</style>\n",
       "<table border=\"1\" class=\"dataframe\">\n",
       "  <thead>\n",
       "    <tr style=\"text-align: right;\">\n",
       "      <th></th>\n",
       "      <th>text</th>\n",
       "    </tr>\n",
       "    <tr>\n",
       "      <th>n_mentions</th>\n",
       "      <th></th>\n",
       "    </tr>\n",
       "  </thead>\n",
       "  <tbody>\n",
       "    <tr>\n",
       "      <th>0</th>\n",
       "      <td>1145</td>\n",
       "    </tr>\n",
       "    <tr>\n",
       "      <th>1</th>\n",
       "      <td>1231</td>\n",
       "    </tr>\n",
       "    <tr>\n",
       "      <th>2</th>\n",
       "      <td>329</td>\n",
       "    </tr>\n",
       "    <tr>\n",
       "      <th>3</th>\n",
       "      <td>78</td>\n",
       "    </tr>\n",
       "    <tr>\n",
       "      <th>4</th>\n",
       "      <td>28</td>\n",
       "    </tr>\n",
       "    <tr>\n",
       "      <th>5</th>\n",
       "      <td>6</td>\n",
       "    </tr>\n",
       "    <tr>\n",
       "      <th>6</th>\n",
       "      <td>2</td>\n",
       "    </tr>\n",
       "  </tbody>\n",
       "</table>\n",
       "</div>"
      ],
      "text/plain": [
       "            text\n",
       "n_mentions      \n",
       "0           1145\n",
       "1           1231\n",
       "2            329\n",
       "3             78\n",
       "4             28\n",
       "5              6\n",
       "6              2"
      ]
     },
     "execution_count": 90,
     "metadata": {},
     "output_type": "execute_result"
    }
   ],
   "source": [
    "df.groupby(['n_mentions'])[['text']].count()"
   ]
  },
  {
   "cell_type": "code",
   "execution_count": 91,
   "metadata": {},
   "outputs": [
    {
     "data": {
      "image/png": "[encoded data removed]",
      "text/plain": [
       "<Figure size 720x432 with 1 Axes>"
      ]
     },
     "metadata": {
      "needs_background": "light"
     },
     "output_type": "display_data"
    }
   ],
   "source": [
    "%matplotlib inline\n",
    "plt.figure(figsize=(10, 6))\n",
    "plt.hist(df.n_mentions, bins='auto', rwidth=1.0)\n",
    "plt.title('Distribution of the number of mentions per tweet')\n",
    "plt.ylabel(\"Tweets\")\n",
    "plt.xlabel(\"Mentions (per tweet)\")\n",
    "plt.show()"
   ]
  },
  {
   "cell_type": "code",
   "execution_count": 92,
   "metadata": {},
   "outputs": [
    {
     "data": {
      "image/png": "[encoded data removed]",
      "text/plain": [
       "<Figure size 720x432 with 1 Axes>"
      ]
     },
     "metadata": {
      "needs_background": "light"
     },
     "output_type": "display_data"
    }
   ],
   "source": [
    "%matplotlib inline\n",
    "plt.figure(figsize=(10, 6))\n",
    "plt.hist(df.day_hour, bins='auto', rwidth=0.6)\n",
    "plt.title('Distribution of the number of mentions per tweet')\n",
    "plt.ylabel(\"Tweets\")\n",
    "plt.xlabel(\"Hour of the day\")\n",
    "plt.show()"
   ]
  },
  {
   "cell_type": "code",
   "execution_count": 93,
   "metadata": {},
   "outputs": [],
   "source": [
    "df_2017 = df[df.created_at.dt.year == 2017]"
   ]
  },
  {
   "cell_type": "code",
   "execution_count": 94,
   "metadata": {},
   "outputs": [
    {
     "data": {
      "image/png": "[encoded data removed]",
      "text/plain": [
       "<Figure size 720x432 with 1 Axes>"
      ]
     },
     "metadata": {
      "needs_background": "light"
     },
     "output_type": "display_data"
    }
   ],
   "source": [
    "%matplotlib inline\n",
    "plt.figure(figsize=(10, 6))\n",
    "plt.hist(df_2017.day_hour, bins='auto', rwidth=0.6)\n",
    "plt.title('Year 2017')\n",
    "plt.ylabel(\"Tweets\")\n",
    "plt.xlabel(\"Hour of the day\")\n",
    "plt.show()"
   ]
  },
  {
   "cell_type": "markdown",
   "metadata": {},
   "source": [
    "So far we have used directly `matplotlib` to generate our plots.\n",
    "\n",
    "`pandas`'s dataframes provide some methods that directly call `matplotlib`'s API behind the scenes:\n",
    "- `hist()` for histograms\n",
    "- `boxplot()` for boxplots\n",
    "- `plot()` for other types of plots (specified with e.g. `any='scatter'`)"
   ]
  },
  {
   "cell_type": "markdown",
   "metadata": {},
   "source": [
    "By passing the `by` parameter to e.g. `hist()` it is possible to produce one histogram plot of a given variable for each value in another column."
   ]
  },
  {
   "cell_type": "markdown",
   "metadata": {},
   "source": [
    "Let's see how we can plot the number of mentions by year:"
   ]
  },
  {
   "cell_type": "code",
   "execution_count": 95,
   "metadata": {},
   "outputs": [],
   "source": [
    "df['year'] = df.created_at.dt.year"
   ]
  },
  {
   "cell_type": "code",
   "execution_count": 96,
   "metadata": {},
   "outputs": [
    {
     "data": {
      "image/png": "[encoded data removed]",
      "text/plain": [
       "<Figure size 720x720 with 9 Axes>"
      ]
     },
     "metadata": {
      "needs_background": "light"
     },
     "output_type": "display_data"
    }
   ],
   "source": [
    "axes = df.hist(column='day_hour', by='year', figsize=(10,10))"
   ]
  },
  {
   "cell_type": "markdown",
   "metadata": {},
   "source": [
    "#### Scatter plots\n",
    "\n",
    "They are useful to plot the relation between two variables in your dataset."
   ]
  },
  {
   "cell_type": "code",
   "execution_count": 97,
   "metadata": {},
   "outputs": [
    {
     "data": {
      "text/html": [
       "<div>\n",
       "<style scoped>\n",
       "    .dataframe tbody tr th:only-of-type {\n",
       "        vertical-align: middle;\n",
       "    }\n",
       "\n",
       "    .dataframe tbody tr th {\n",
       "        vertical-align: top;\n",
       "    }\n",
       "\n",
       "    .dataframe thead th {\n",
       "        text-align: right;\n",
       "    }\n",
       "</style>\n",
       "<table border=\"1\" class=\"dataframe\">\n",
       "  <thead>\n",
       "    <tr style=\"text-align: right;\">\n",
       "      <th></th>\n",
       "      <th>created_at</th>\n",
       "      <th>text</th>\n",
       "      <th>tweet_link</th>\n",
       "      <th>tweet_mentions</th>\n",
       "      <th>n_mentions</th>\n",
       "      <th>week_day_name</th>\n",
       "      <th>week_day</th>\n",
       "      <th>day_hour</th>\n",
       "      <th>year</th>\n",
       "    </tr>\n",
       "    <tr>\n",
       "      <th>id</th>\n",
       "      <th></th>\n",
       "      <th></th>\n",
       "      <th></th>\n",
       "      <th></th>\n",
       "      <th></th>\n",
       "      <th></th>\n",
       "      <th></th>\n",
       "      <th></th>\n",
       "      <th></th>\n",
       "    </tr>\n",
       "  </thead>\n",
       "  <tbody>\n",
       "    <tr>\n",
       "      <th>849636868052275200</th>\n",
       "      <td>2017-04-05 14:56:29</td>\n",
       "      <td>b'And so the robots spared humanity ... https://t.co/v7JUJQWfCv'</td>\n",
       "      <td>https://twitter.com/i/web/status/849636868052275200</td>\n",
       "      <td>[]</td>\n",
       "      <td>0</td>\n",
       "      <td>Wednesday</td>\n",
       "      <td>2</td>\n",
       "      <td>14</td>\n",
       "      <td>2017</td>\n",
       "    </tr>\n",
       "    <tr>\n",
       "      <th>848988730585096192</th>\n",
       "      <td>2017-04-03 20:01:01</td>\n",
       "      <td>b\"@ForIn2020 @waltmossberg @mims @defcon_5 Exactly. Tesla is absurdly overvalued if based on the past, but that's irr\\xe2\\x80\\xa6 https://t.co/qQcTqkzgMl\"</td>\n",
       "      <td>https://twitter.com/i/web/status/848988730585096192</td>\n",
       "      <td>[@ForIn2020, @waltmossberg, @mims, @defcon_5]</td>\n",
       "      <td>4</td>\n",
       "      <td>Monday</td>\n",
       "      <td>0</td>\n",
       "      <td>20</td>\n",
       "      <td>2017</td>\n",
       "    </tr>\n",
       "    <tr>\n",
       "      <th>848943072423497728</th>\n",
       "      <td>2017-04-03 16:59:35</td>\n",
       "      <td>b'@waltmossberg @mims @defcon_5 Et tu, Walt?'</td>\n",
       "      <td>https://twitter.com/i/web/status/848943072423497728</td>\n",
       "      <td>[@waltmossberg, @mims, @defcon_5]</td>\n",
       "      <td>3</td>\n",
       "      <td>Monday</td>\n",
       "      <td>0</td>\n",
       "      <td>16</td>\n",
       "      <td>2017</td>\n",
       "    </tr>\n",
       "  </tbody>\n",
       "</table>\n",
       "</div>"
      ],
      "text/plain": [
       "                            created_at  \\\n",
       "id                                       \n",
       "849636868052275200 2017-04-05 14:56:29   \n",
       "848988730585096192 2017-04-03 20:01:01   \n",
       "848943072423497728 2017-04-03 16:59:35   \n",
       "\n",
       "                                                                                                                                                                          text  \\\n",
       "id                                                                                                                                                                               \n",
       "849636868052275200                                                                                            b'And so the robots spared humanity ... https://t.co/v7JUJQWfCv'   \n",
       "848988730585096192  b\"@ForIn2020 @waltmossberg @mims @defcon_5 Exactly. Tesla is absurdly overvalued if based on the past, but that's irr\\xe2\\x80\\xa6 https://t.co/qQcTqkzgMl\"   \n",
       "848943072423497728                                                                                                               b'@waltmossberg @mims @defcon_5 Et tu, Walt?'   \n",
       "\n",
       "                                                             tweet_link  \\\n",
       "id                                                                        \n",
       "849636868052275200  https://twitter.com/i/web/status/849636868052275200   \n",
       "848988730585096192  https://twitter.com/i/web/status/848988730585096192   \n",
       "848943072423497728  https://twitter.com/i/web/status/848943072423497728   \n",
       "\n",
       "                                                   tweet_mentions  n_mentions  \\\n",
       "id                                                                              \n",
       "849636868052275200                                             []           0   \n",
       "848988730585096192  [@ForIn2020, @waltmossberg, @mims, @defcon_5]           4   \n",
       "848943072423497728              [@waltmossberg, @mims, @defcon_5]           3   \n",
       "\n",
       "                   week_day_name  week_day  day_hour  year  \n",
       "id                                                          \n",
       "849636868052275200     Wednesday         2        14  2017  \n",
       "848988730585096192        Monday         0        20  2017  \n",
       "848943072423497728        Monday         0        16  2017  "
      ]
     },
     "execution_count": 97,
     "metadata": {},
     "output_type": "execute_result"
    }
   ],
   "source": [
    "df.head(3)"
   ]
  },
  {
   "cell_type": "code",
   "execution_count": 98,
   "metadata": {},
   "outputs": [
    {
     "data": {
      "image/png": "[encoded data removed]",
      "text/plain": [
       "<Figure size 720x432 with 1 Axes>"
      ]
     },
     "metadata": {
      "needs_background": "light"
     },
     "output_type": "display_data"
    }
   ],
   "source": [
    "%matplotlib inline\n",
    "plt.figure(figsize=(10, 6))\n",
    "\n",
    "# specify the type of plot and the two\n",
    "# variables to be plotted against one another\n",
    "plt.scatter(df.n_mentions, df.day_hour)\n",
    "\n",
    "# give a title to the plot\n",
    "plt.title('Number of mentions vs hour of the day')\n",
    "\n",
    "# give a label to the axes\n",
    "plt.ylabel(\"Day hour\")\n",
    "plt.xlabel(\"Number of mentions\")\n",
    "plt.show()"
   ]
  },
  {
   "cell_type": "markdown",
   "metadata": {},
   "source": [
    "#### Bar charts\n",
    "\n",
    "They are useful to plot categorical data."
   ]
  },
  {
   "cell_type": "code",
   "execution_count": 100,
   "metadata": {},
   "outputs": [],
   "source": [
    "tweets_by_weekday = df.groupby(df.created_at.dt.weekday)[['text']].count()"
   ]
  },
  {
   "cell_type": "code",
   "execution_count": 101,
   "metadata": {},
   "outputs": [],
   "source": [
    "week_days = [\n",
    "    \"Mon\",\n",
    "    \"Tue\",\n",
    "    \"Wed\",\n",
    "    \"Thur\",\n",
    "    \"Fri\",\n",
    "    \"Sat\",\n",
    "    \"Sun\"\n",
    "]"
   ]
  },
  {
   "cell_type": "code",
   "execution_count": 102,
   "metadata": {},
   "outputs": [
    {
     "data": {
      "image/png": "[encoded data removed]",
      "text/plain": [
       "<Figure size 576x432 with 1 Axes>"
      ]
     },
     "metadata": {
      "needs_background": "light"
     },
     "output_type": "display_data"
    }
   ],
   "source": [
    "%matplotlib inline\n",
    "plt.figure(figsize=(8, 6))\n",
    "\n",
    "# specify the type of plot and the labels\n",
    "# for the y axis (the bars)\n",
    "plt.bar(\n",
    "    tweets_by_weekday.index,\n",
    "    tweets_by_weekday.text,\n",
    "    tick_label=week_days,\n",
    "    width=0.5\n",
    ")\n",
    "\n",
    "# give a title to the plot\n",
    "plt.title('Elon Musk\\'s week on Twitter')\n",
    "\n",
    "# give a label to the axes\n",
    "plt.ylabel(\"Number of tweets\")\n",
    "plt.xlabel(\"Week day\")\n",
    "plt.show()"
   ]
  },
  {
   "cell_type": "markdown",
   "metadata": {},
   "source": [
    "#### Box plots\n",
    "\n",
    "![box plot explained](./images/eda-boxplot.png)"
   ]
  },
  {
   "cell_type": "code",
   "execution_count": 104,
   "metadata": {},
   "outputs": [
    {
     "data": {
      "text/html": [
       "<div>\n",
       "<style scoped>\n",
       "    .dataframe tbody tr th:only-of-type {\n",
       "        vertical-align: middle;\n",
       "    }\n",
       "\n",
       "    .dataframe tbody tr th {\n",
       "        vertical-align: top;\n",
       "    }\n",
       "\n",
       "    .dataframe thead th {\n",
       "        text-align: right;\n",
       "    }\n",
       "</style>\n",
       "<table border=\"1\" class=\"dataframe\">\n",
       "  <thead>\n",
       "    <tr style=\"text-align: right;\">\n",
       "      <th></th>\n",
       "      <th>text</th>\n",
       "    </tr>\n",
       "    <tr>\n",
       "      <th>created_at</th>\n",
       "      <th></th>\n",
       "    </tr>\n",
       "  </thead>\n",
       "  <tbody>\n",
       "    <tr>\n",
       "      <th>0</th>\n",
       "      <td>315</td>\n",
       "    </tr>\n",
       "    <tr>\n",
       "      <th>1</th>\n",
       "      <td>385</td>\n",
       "    </tr>\n",
       "    <tr>\n",
       "      <th>2</th>\n",
       "      <td>380</td>\n",
       "    </tr>\n",
       "    <tr>\n",
       "      <th>3</th>\n",
       "      <td>361</td>\n",
       "    </tr>\n",
       "    <tr>\n",
       "      <th>4</th>\n",
       "      <td>530</td>\n",
       "    </tr>\n",
       "    <tr>\n",
       "      <th>5</th>\n",
       "      <td>426</td>\n",
       "    </tr>\n",
       "    <tr>\n",
       "      <th>6</th>\n",
       "      <td>422</td>\n",
       "    </tr>\n",
       "  </tbody>\n",
       "</table>\n",
       "</div>"
      ],
      "text/plain": [
       "            text\n",
       "created_at      \n",
       "0            315\n",
       "1            385\n",
       "2            380\n",
       "3            361\n",
       "4            530\n",
       "5            426\n",
       "6            422"
      ]
     },
     "execution_count": 104,
     "metadata": {},
     "output_type": "execute_result"
    }
   ],
   "source": [
    "tweets_by_weekday"
   ]
  },
  {
   "cell_type": "code",
   "execution_count": 105,
   "metadata": {},
   "outputs": [
    {
     "data": {
      "text/html": [
       "<div>\n",
       "<style scoped>\n",
       "    .dataframe tbody tr th:only-of-type {\n",
       "        vertical-align: middle;\n",
       "    }\n",
       "\n",
       "    .dataframe tbody tr th {\n",
       "        vertical-align: top;\n",
       "    }\n",
       "\n",
       "    .dataframe thead th {\n",
       "        text-align: right;\n",
       "    }\n",
       "</style>\n",
       "<table border=\"1\" class=\"dataframe\">\n",
       "  <thead>\n",
       "    <tr style=\"text-align: right;\">\n",
       "      <th></th>\n",
       "      <th>text</th>\n",
       "    </tr>\n",
       "  </thead>\n",
       "  <tbody>\n",
       "    <tr>\n",
       "      <th>count</th>\n",
       "      <td>7.000000</td>\n",
       "    </tr>\n",
       "    <tr>\n",
       "      <th>mean</th>\n",
       "      <td>402.714286</td>\n",
       "    </tr>\n",
       "    <tr>\n",
       "      <th>std</th>\n",
       "      <td>67.551744</td>\n",
       "    </tr>\n",
       "    <tr>\n",
       "      <th>min</th>\n",
       "      <td>315.000000</td>\n",
       "    </tr>\n",
       "    <tr>\n",
       "      <th>25%</th>\n",
       "      <td>370.500000</td>\n",
       "    </tr>\n",
       "    <tr>\n",
       "      <th>50%</th>\n",
       "      <td>385.000000</td>\n",
       "    </tr>\n",
       "    <tr>\n",
       "      <th>75%</th>\n",
       "      <td>424.000000</td>\n",
       "    </tr>\n",
       "    <tr>\n",
       "      <th>max</th>\n",
       "      <td>530.000000</td>\n",
       "    </tr>\n",
       "  </tbody>\n",
       "</table>\n",
       "</div>"
      ],
      "text/plain": [
       "             text\n",
       "count    7.000000\n",
       "mean   402.714286\n",
       "std     67.551744\n",
       "min    315.000000\n",
       "25%    370.500000\n",
       "50%    385.000000\n",
       "75%    424.000000\n",
       "max    530.000000"
      ]
     },
     "execution_count": 105,
     "metadata": {},
     "output_type": "execute_result"
    }
   ],
   "source": [
    "tweets_by_weekday.describe()"
   ]
  },
  {
   "cell_type": "code",
   "execution_count": 106,
   "metadata": {},
   "outputs": [
    {
     "data": {
      "text/plain": [
       "<AxesSubplot:>"
      ]
     },
     "execution_count": 106,
     "metadata": {},
     "output_type": "execute_result"
    },
    {
     "data": {
      "image/png": "[encoded data removed]",
      "text/plain": [
       "<Figure size 432x288 with 1 Axes>"
      ]
     },
     "metadata": {
      "needs_background": "light"
     },
     "output_type": "display_data"
    }
   ],
   "source": [
    "tweets_by_weekday.boxplot()"
   ]
  },
  {
   "cell_type": "code",
   "execution_count": 108,
   "metadata": {},
   "outputs": [
    {
     "data": {
      "text/html": [
       "<div>\n",
       "<style scoped>\n",
       "    .dataframe tbody tr th:only-of-type {\n",
       "        vertical-align: middle;\n",
       "    }\n",
       "\n",
       "    .dataframe tbody tr th {\n",
       "        vertical-align: top;\n",
       "    }\n",
       "\n",
       "    .dataframe thead th {\n",
       "        text-align: right;\n",
       "    }\n",
       "</style>\n",
       "<table border=\"1\" class=\"dataframe\">\n",
       "  <thead>\n",
       "    <tr style=\"text-align: right;\">\n",
       "      <th></th>\n",
       "      <th>created_at</th>\n",
       "      <th>text</th>\n",
       "      <th>tweet_link</th>\n",
       "      <th>tweet_mentions</th>\n",
       "      <th>n_mentions</th>\n",
       "      <th>week_day_name</th>\n",
       "      <th>week_day</th>\n",
       "      <th>day_hour</th>\n",
       "      <th>year</th>\n",
       "    </tr>\n",
       "    <tr>\n",
       "      <th>id</th>\n",
       "      <th></th>\n",
       "      <th></th>\n",
       "      <th></th>\n",
       "      <th></th>\n",
       "      <th></th>\n",
       "      <th></th>\n",
       "      <th></th>\n",
       "      <th></th>\n",
       "      <th></th>\n",
       "    </tr>\n",
       "  </thead>\n",
       "  <tbody>\n",
       "    <tr>\n",
       "      <th>849636868052275200</th>\n",
       "      <td>2017-04-05 14:56:29</td>\n",
       "      <td>b'And so the robots spared humanity ... https://t.co/v7JUJQWfCv'</td>\n",
       "      <td>https://twitter.com/i/web/status/849636868052275200</td>\n",
       "      <td>[]</td>\n",
       "      <td>0</td>\n",
       "      <td>Wednesday</td>\n",
       "      <td>2</td>\n",
       "      <td>14</td>\n",
       "      <td>2017</td>\n",
       "    </tr>\n",
       "    <tr>\n",
       "      <th>848988730585096192</th>\n",
       "      <td>2017-04-03 20:01:01</td>\n",
       "      <td>b\"@ForIn2020 @waltmossberg @mims @defcon_5 Exactly. Tesla is absurdly overvalued if based on the past, but that's irr\\xe2\\x80\\xa6 https://t.co/qQcTqkzgMl\"</td>\n",
       "      <td>https://twitter.com/i/web/status/848988730585096192</td>\n",
       "      <td>[@ForIn2020, @waltmossberg, @mims, @defcon_5]</td>\n",
       "      <td>4</td>\n",
       "      <td>Monday</td>\n",
       "      <td>0</td>\n",
       "      <td>20</td>\n",
       "      <td>2017</td>\n",
       "    </tr>\n",
       "    <tr>\n",
       "      <th>848943072423497728</th>\n",
       "      <td>2017-04-03 16:59:35</td>\n",
       "      <td>b'@waltmossberg @mims @defcon_5 Et tu, Walt?'</td>\n",
       "      <td>https://twitter.com/i/web/status/848943072423497728</td>\n",
       "      <td>[@waltmossberg, @mims, @defcon_5]</td>\n",
       "      <td>3</td>\n",
       "      <td>Monday</td>\n",
       "      <td>0</td>\n",
       "      <td>16</td>\n",
       "      <td>2017</td>\n",
       "    </tr>\n",
       "  </tbody>\n",
       "</table>\n",
       "</div>"
      ],
      "text/plain": [
       "                            created_at  \\\n",
       "id                                       \n",
       "849636868052275200 2017-04-05 14:56:29   \n",
       "848988730585096192 2017-04-03 20:01:01   \n",
       "848943072423497728 2017-04-03 16:59:35   \n",
       "\n",
       "                                                                                                                                                                          text  \\\n",
       "id                                                                                                                                                                               \n",
       "849636868052275200                                                                                            b'And so the robots spared humanity ... https://t.co/v7JUJQWfCv'   \n",
       "848988730585096192  b\"@ForIn2020 @waltmossberg @mims @defcon_5 Exactly. Tesla is absurdly overvalued if based on the past, but that's irr\\xe2\\x80\\xa6 https://t.co/qQcTqkzgMl\"   \n",
       "848943072423497728                                                                                                               b'@waltmossberg @mims @defcon_5 Et tu, Walt?'   \n",
       "\n",
       "                                                             tweet_link  \\\n",
       "id                                                                        \n",
       "849636868052275200  https://twitter.com/i/web/status/849636868052275200   \n",
       "848988730585096192  https://twitter.com/i/web/status/848988730585096192   \n",
       "848943072423497728  https://twitter.com/i/web/status/848943072423497728   \n",
       "\n",
       "                                                   tweet_mentions  n_mentions  \\\n",
       "id                                                                              \n",
       "849636868052275200                                             []           0   \n",
       "848988730585096192  [@ForIn2020, @waltmossberg, @mims, @defcon_5]           4   \n",
       "848943072423497728              [@waltmossberg, @mims, @defcon_5]           3   \n",
       "\n",
       "                   week_day_name  week_day  day_hour  year  \n",
       "id                                                          \n",
       "849636868052275200     Wednesday         2        14  2017  \n",
       "848988730585096192        Monday         0        20  2017  \n",
       "848943072423497728        Monday         0        16  2017  "
      ]
     },
     "execution_count": 108,
     "metadata": {},
     "output_type": "execute_result"
    }
   ],
   "source": [
    "df.head(3)"
   ]
  },
  {
   "cell_type": "code",
   "execution_count": 109,
   "metadata": {},
   "outputs": [
    {
     "data": {
      "text/html": [
       "<div>\n",
       "<style scoped>\n",
       "    .dataframe tbody tr th:only-of-type {\n",
       "        vertical-align: middle;\n",
       "    }\n",
       "\n",
       "    .dataframe tbody tr th {\n",
       "        vertical-align: top;\n",
       "    }\n",
       "\n",
       "    .dataframe thead th {\n",
       "        text-align: right;\n",
       "    }\n",
       "</style>\n",
       "<table border=\"1\" class=\"dataframe\">\n",
       "  <thead>\n",
       "    <tr style=\"text-align: right;\">\n",
       "      <th></th>\n",
       "      <th>day_hour</th>\n",
       "    </tr>\n",
       "  </thead>\n",
       "  <tbody>\n",
       "    <tr>\n",
       "      <th>count</th>\n",
       "      <td>2819.000000</td>\n",
       "    </tr>\n",
       "    <tr>\n",
       "      <th>mean</th>\n",
       "      <td>12.782547</td>\n",
       "    </tr>\n",
       "    <tr>\n",
       "      <th>std</th>\n",
       "      <td>7.611198</td>\n",
       "    </tr>\n",
       "    <tr>\n",
       "      <th>min</th>\n",
       "      <td>0.000000</td>\n",
       "    </tr>\n",
       "    <tr>\n",
       "      <th>25%</th>\n",
       "      <td>5.000000</td>\n",
       "    </tr>\n",
       "    <tr>\n",
       "      <th>50%</th>\n",
       "      <td>15.000000</td>\n",
       "    </tr>\n",
       "    <tr>\n",
       "      <th>75%</th>\n",
       "      <td>19.000000</td>\n",
       "    </tr>\n",
       "    <tr>\n",
       "      <th>max</th>\n",
       "      <td>23.000000</td>\n",
       "    </tr>\n",
       "  </tbody>\n",
       "</table>\n",
       "</div>"
      ],
      "text/plain": [
       "          day_hour\n",
       "count  2819.000000\n",
       "mean     12.782547\n",
       "std       7.611198\n",
       "min       0.000000\n",
       "25%       5.000000\n",
       "50%      15.000000\n",
       "75%      19.000000\n",
       "max      23.000000"
      ]
     },
     "execution_count": 109,
     "metadata": {},
     "output_type": "execute_result"
    }
   ],
   "source": [
    "df[['day_hour']].describe()"
   ]
  },
  {
   "cell_type": "code",
   "execution_count": 110,
   "metadata": {},
   "outputs": [
    {
     "data": {
      "text/plain": [
       "day_hour    5.0\n",
       "Name: 0.25, dtype: float64"
      ]
     },
     "execution_count": 110,
     "metadata": {},
     "output_type": "execute_result"
    }
   ],
   "source": [
    "df[['day_hour']].quantile(.25)"
   ]
  },
  {
   "cell_type": "code",
   "execution_count": 111,
   "metadata": {},
   "outputs": [],
   "source": [
    "df.boxplot?"
   ]
  },
  {
   "cell_type": "code",
   "execution_count": 112,
   "metadata": {},
   "outputs": [
    {
     "data": {
      "image/png": "[encoded data removed]",
      "text/plain": [
       "<Figure size 576x432 with 1 Axes>"
      ]
     },
     "metadata": {
      "needs_background": "light"
     },
     "output_type": "display_data"
    }
   ],
   "source": [
    "%matplotlib inline\n",
    "\n",
    "df[['day_hour', 'week_day_name']].boxplot(\n",
    "    by='week_day_name',\n",
    "    grid=False,\n",
    "    figsize=(8,6),\n",
    "    fontsize=10\n",
    ")\n",
    "\n",
    "# give a title to the plot\n",
    "plt.title('')\n",
    "\n",
    "# give a label to the axes\n",
    "plt.xlabel(\"Day of the week\")\n",
    "plt.show()"
   ]
  },
  {
   "cell_type": "code",
   "execution_count": 113,
   "metadata": {},
   "outputs": [
    {
     "data": {
      "image/png": "[encoded data removed]",
      "text/plain": [
       "<Figure size 576x432 with 1 Axes>"
      ]
     },
     "metadata": {
      "needs_background": "light"
     },
     "output_type": "display_data"
    }
   ],
   "source": [
    "%matplotlib inline\n",
    "\n",
    "df[['day_hour', 'week_day']].boxplot(\n",
    "    by='week_day',\n",
    "    grid=True, # just to show the difference with/without\n",
    "    figsize=(8,6),\n",
    "    fontsize=10\n",
    ")\n",
    "\n",
    "# give a title to the plot\n",
    "plt.title('')\n",
    "\n",
    "# give a label to the axes\n",
    "plt.xlabel(\"Day of the week\")\n",
    "plt.show()"
   ]
  },
  {
   "cell_type": "markdown",
   "metadata": {},
   "source": [
    "#### Quiz\n",
    "\n",
    "* Plot (in any way you deem appropriate) the length of tweets per day of the week\n",
    "* The same, but per hour\n",
    "* The same, but weekend or not\n",
    "* Briefly comment upon your results"
   ]
  },
  {
   "cell_type": "markdown",
   "metadata": {},
   "source": [
    "---"
   ]
  }
 ],
 "metadata": {
  "kernelspec": {
   "display_name": "Python 3",
   "language": "python",
   "name": "python3"
  },
  "language_info": {
   "codemirror_mode": {
    "name": "ipython",
    "version": 3
   },
   "file_extension": ".py",
   "mimetype": "text/x-python",
   "name": "python",
   "nbconvert_exporter": "python",
   "pygments_lexer": "ipython3",
   "version": "3.8.5"
  },
  "toc": {
   "base_numbering": 1,
   "nav_menu": {},
   "number_sections": false,
   "sideBar": true,
   "skip_h1_title": false,
   "title_cell": "Table of Contents",
   "title_sidebar": "Contents",
   "toc_cell": false,
   "toc_position": {
    "height": "calc(100% - 180px)",
    "left": "10px",
    "top": "150px",
    "width": "384px"
   },
   "toc_section_display": true,
   "toc_window_display": true
  }
 },
 "nbformat": 4,
 "nbformat_minor": 2
}
